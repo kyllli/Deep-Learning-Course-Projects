{
  "nbformat": 4,
  "nbformat_minor": 0,
  "metadata": {
    "colab": {
      "provenance": [],
      "collapsed_sections": []
    },
    "kernelspec": {
      "name": "python3",
      "display_name": "Python 3"
    },
    "language_info": {
      "name": "python"
    }
  },
  "cells": [
    {
      "cell_type": "markdown",
      "source": [
        "# STOR 566, Homework 2\n",
        "### Instructor: Yao Li\n",
        "### Keywords: SVM, MLP, CNN\n",
        "### Due date: Sep 18, 11:55pm\n",
        "### **Submission Instruction**\n",
        "\n",
        "- Please download this script and use it to answer the questions in the homework. \n",
        "- For submission, please include your code, code output and answers in the script and submit the ipynb file on sakai.\n",
        "- Please don't modify existing cells. But you can add cells between the exercise statements.\n",
        "- To make markdown, please switch the cell type to markdown (from code) - you can hit 'm' when you are in command mode - and use the markdown language. For a brief tutorial see: https://daringfireball.net/projects/markdown/syntax\n",
        "\n",
        "### **References:**\n",
        "\n",
        "- You can follow the setup instructions at [here](https://pytorch.org/get-started/locally/).\n",
        "- A useful tutorial on learning pytorch by examples at [here](https://pytorch.org/tutorials/beginner/pytorch_with_examples.html).\n",
        "- More illustrations of different optimizers could be found [here](https://ruder.io/optimizing-gradient-descent/).\n",
        "- Check Pytorch optimization methods at [here](https://pytorch.org/docs/stable/optim.html)\n",
        "- Check Pytorch data augmentation options at [here](https://pytorch.org/vision/main/transforms.html).\n",
        "\n",
        "\n",
        "### **Evaluation Metrics of Classifiers:**\n",
        "\n",
        "- Average loss of an epoch: \n",
        "    \\begin{align}\n",
        "\t  \\frac{1}{B}\\sum_{b=1}^B\\sum_{d=1}^{D_b}\\frac{loss(y_{bd}, f(x_{bd}))}{D_b}\n",
        "\t  \\end{align}\n",
        "    for each training epoch\n",
        "    \n",
        "    - $B$: the total number of batches\n",
        "    - $D_b$: the number of observations in $b$-th batch\n",
        "    - $f$: the model (Logistic regression or Linear SVM or MLP or CNN)\n",
        "    - loss: logistic loss or the loss of linear SVM or cross-entropy\n",
        "    - $(x_{bd}, y_{bd})$: the $d$-th pair of input data and label in $b$-th batch\n",
        "    - An epoch is defined as one iteration over all observations in the training dataset\n",
        "\n",
        "- Testing accuracy: \n",
        "\t\\begin{align}\n",
        "\t\\frac{1}{N}\\sum_{i=1}^N {\\bf 1}(\\hat{y}_i=y_i)\n",
        "\t\\end{align}\t\n",
        "    - $N$: the total number of samples in the testing set\n",
        "    - $y_i$: true label of sample $i$\n",
        "    - $\\hat{y}_i$: predicted label by the model"
      ],
      "metadata": {
        "id": "0D6giqCEScfp"
      }
    },
    {
      "cell_type": "markdown",
      "source": [
        "## Problem 1 (40 points)\n",
        "\n",
        "In this problem you will practice implementing Linear SVM and Logistic Regression to classify **handwritten digit 0 and 1**.\n",
        "\n",
        "**Data.** You will use MNIST digit classification dataset. Pytorch/torchvision has provide a useful dataloader to automatically download and load the data into batches. In this homework, you need two class, digit 0 and digit 1, for binary classification. Code of the data loader has been provided in the template. Please don't modify the data loading part."
      ],
      "metadata": {
        "id": "rB6khqRukUzQ"
      }
    },
    {
      "cell_type": "code",
      "source": [
        "## The following code can change the working directory to your google drive\n",
        "## So you don't need to download the data every time\n",
        "\"\"\"\n",
        "import os\n",
        "from google.colab import drive \n",
        "drive.mount('/content/drive')\n",
        "os.chdir('/content/drive/MyDrive/YOUR_NEW_WD')\n",
        "\"\"\""
      ],
      "metadata": {
        "id": "sKxBocWvdBtA",
        "colab": {
          "base_uri": "https://localhost:8080/",
          "height": 35
        },
        "outputId": "41d534d7-fc0e-4f15-fdaf-2644320ac21f"
      },
      "execution_count": 1,
      "outputs": [
        {
          "output_type": "execute_result",
          "data": {
            "text/plain": [
              "\"\\nimport os\\nfrom google.colab import drive \\ndrive.mount('/content/drive')\\nos.chdir('/content/drive/MyDrive/YOUR_NEW_WD')\\n\""
            ],
            "application/vnd.google.colaboratory.intrinsic+json": {
              "type": "string"
            }
          },
          "metadata": {},
          "execution_count": 1
        }
      ]
    },
    {
      "cell_type": "code",
      "source": [
        "## Data loading code chunk, please don't modify it. \n",
        "## However, you can adjust the batch size if you want to.\n",
        "batch_size = 64\n",
        "data_dir = './data'\n",
        "\n",
        "import torch\n",
        "import torch.nn as nn\n",
        "import torch.optim as optim\n",
        "import torch.nn.functional as F\n",
        "import numpy as np\n",
        "import torch.utils.data as td\n",
        "import random, time\n",
        "import matplotlib.pyplot as plt\n",
        "from torchvision import datasets, transforms\n",
        "from torch.utils.data.sampler import SubsetRandomSampler\n",
        "\n",
        "## USE THIS SNIPPET TO GET BINARY TRAIN/TEST DATA\n",
        "\n",
        "train_data = datasets.MNIST(data_dir, train=True, download=True,\n",
        "                   transform=transforms.Compose([\n",
        "                       transforms.ToTensor(),\n",
        "                       transforms.Normalize((0.1307,), (0.3081,))\n",
        "                   ]))\n",
        "# Once you have downloaded the data by setting download=True, you can\n",
        "# change download=True to download=False\n",
        "test_data = datasets.MNIST(data_dir, train=False, download=False,\n",
        "                   transform=transforms.Compose([\n",
        "                       transforms.ToTensor(),\n",
        "                       transforms.Normalize((0.1307,), (0.3081,))\n",
        "                   ]))\n",
        "\n",
        "subset_indices = ((train_data.targets == 0) + (train_data.targets == 1)).nonzero()\n",
        "train_loader = torch.utils.data.DataLoader(train_data,batch_size=batch_size, \n",
        "  shuffle=False,sampler=SubsetRandomSampler(subset_indices.view(-1)))\n",
        "\n",
        "\n",
        "subset_indices = ((test_data.targets == 0) + (test_data.targets == 1)).nonzero()\n",
        "test_loader = torch.utils.data.DataLoader(test_data,batch_size=batch_size, \n",
        "  shuffle=False,sampler=SubsetRandomSampler(subset_indices.view(-1)))"
      ],
      "metadata": {
        "id": "UFlhPdZWXDSs"
      },
      "execution_count": 30,
      "outputs": []
    },
    {
      "cell_type": "markdown",
      "source": [
        "### **Problem Description.**\n",
        "### 1. (20 points) Implement **Logistic Regression** with Pytorch to do handwritten digit 0 vs. 1 classification. Pick an optimizer yourself. "
      ],
      "metadata": {
        "id": "L_VY0XmUkteW"
      }
    },
    {
      "cell_type": "code",
      "source": [
        "## Implementation of Logistic Regression\n",
        "## You can insert more code chunks and text cells if you want to.\n",
        "## Your code:\n",
        "\n",
        "## A template is provided but you don't have to follow it:\n",
        "\"\"\"\n",
        "# The number of epochs is at least 10, you can increase it to achieve better performance\n",
        "num_epochs = 10\n",
        "\n",
        "# Training the Model\n",
        "for epoch in range(num_epochs):\n",
        "    total_loss = 0\n",
        "    for i, (images, labels) in enumerate(train_loader):\n",
        "        # Convert the 28*28 image matrix into a 784-dim vector\n",
        "        images = images.view(-1, 28*28) \n",
        "        # Convert labels from 0,1 to -1,1\n",
        "        labels = 2*(labels.float()-0.5)\n",
        "        \n",
        "        ## TODO \n",
        "        # 1. Compute Loss. Check torch functions for the corresponding loss for Logistic and SVM\n",
        "        # 2. Do optimization. Chec torch.optim to see how to do optimization with pytorch\n",
        "        # 3. Save batch loss\n",
        "\n",
        "    ## Save average epoch loss\n",
        "\"\"\"\n"
      ],
      "metadata": {
        "id": "jsD4haidWeDq",
        "colab": {
          "base_uri": "https://localhost:8080/",
          "height": 125
        },
        "outputId": "0931078d-9fe8-40d9-e242-4baca62d726e"
      },
      "execution_count": 3,
      "outputs": [
        {
          "output_type": "execute_result",
          "data": {
            "text/plain": [
              "'\\n# The number of epochs is at least 10, you can increase it to achieve better performance\\nnum_epochs = 10\\n\\n# Training the Model\\nfor epoch in range(num_epochs):\\n    total_loss = 0\\n    for i, (images, labels) in enumerate(train_loader):\\n        # Convert the 28*28 image matrix into a 784-dim vector\\n        images = images.view(-1, 28*28) \\n        # Convert labels from 0,1 to -1,1\\n        labels = 2*(labels.float()-0.5)\\n        \\n        ## TODO \\n        # 1. Compute Loss. Check torch functions for the corresponding loss for Logistic and SVM\\n        # 2. Do optimization. Chec torch.optim to see how to do optimization with pytorch\\n        # 3. Save batch loss\\n\\n    ## Save average epoch loss\\n'"
            ],
            "application/vnd.google.colaboratory.intrinsic+json": {
              "type": "string"
            }
          },
          "metadata": {},
          "execution_count": 3
        }
      ]
    },
    {
      "cell_type": "code",
      "source": [
        "class LogisticRegression(nn.Module):\n",
        "     def __init__(self, input_size, num_classes):\n",
        "         super(LogisticRegression, self).__init__()\n",
        "         self.linear = nn.Linear(input_size, num_classes)\n",
        "     \n",
        "     def forward(self, x):\n",
        "         out = torch.sigmoid(self.linear(x))\n",
        "         return out"
      ],
      "metadata": {
        "id": "mOTJ5WH3V--P"
      },
      "execution_count": 4,
      "outputs": []
    },
    {
      "cell_type": "code",
      "source": [
        "from numpy.ma.core import size\n",
        "from torch.autograd import Variable\n",
        "\n",
        "# The number of epochs is at least 10, you can increase it to achieve better performance\n",
        "num_epochs = 10\n",
        "input_size = 28*28\n",
        "num_classes = 1\n",
        "learning_rate = 0.001\n",
        "momentum = 0.9\n",
        "model = LogisticRegression(input_size, num_classes)\n",
        "criterion = nn.BCELoss()\n",
        "optimizer = optim.SGD(model.parameters(), lr=learning_rate, momentum=momentum)\n",
        "\n",
        "# Training the Model\n",
        "epoch_loss = []\n",
        "for epoch in range(num_epochs):\n",
        "    total_loss = 0\n",
        "    n = 0\n",
        "    for i, (images, labels) in enumerate(train_loader):\n",
        "        images = Variable(images.view(-1, 28*28))\n",
        "        labels = Variable(labels)\n",
        "        \n",
        "        outputs = model(images)\n",
        "        loss = criterion(torch.squeeze(outputs), labels.float())\n",
        "\n",
        "        optimizer.zero_grad()\n",
        "        loss.backward()\n",
        "        optimizer.step()\n",
        "        \n",
        "        total_loss += loss.item()\n",
        "\n",
        "        # if (i+1) % 64 == 0:\n",
        "            # print('Epoch: [%d/%d], Step: [%d/%d], Loss: %.4f'% (epoch+1, num_epochs, i+1, len(train_loader), loss.item()))\n",
        "\n",
        "    ## Save average epoch loss\n",
        "    epoch_loss.append(total_loss/len(train_loader))\n",
        "    print('Epoch Loss [%d]: %.4f'% (epoch+1, epoch_loss[epoch]))"
      ],
      "metadata": {
        "colab": {
          "base_uri": "https://localhost:8080/"
        },
        "id": "wrhRXCoZtClQ",
        "outputId": "c7a93211-3152-4e9b-f1c1-452f48fe9292"
      },
      "execution_count": 5,
      "outputs": [
        {
          "output_type": "stream",
          "name": "stdout",
          "text": [
            "Epoch Loss [1]: 0.0467\n",
            "Epoch Loss [2]: 0.0101\n",
            "Epoch Loss [3]: 0.0080\n",
            "Epoch Loss [4]: 0.0069\n",
            "Epoch Loss [5]: 0.0062\n",
            "Epoch Loss [6]: 0.0056\n",
            "Epoch Loss [7]: 0.0052\n",
            "Epoch Loss [8]: 0.0049\n",
            "Epoch Loss [9]: 0.0046\n",
            "Epoch Loss [10]: 0.0044\n"
          ]
        }
      ]
    },
    {
      "cell_type": "markdown",
      "source": [
        "### (a) (5 points) Report the hyper-parameters (number of epochs, learning rate, momentum etc)."
      ],
      "metadata": {
        "id": "4UZxum1LZSD8"
      }
    },
    {
      "cell_type": "markdown",
      "source": [
        "Answer:\n",
        "\n",
        "Number of epochs: 10 <br>\n",
        "Learning rate: 0.001 <br>\n",
        "Momentum: 0.9"
      ],
      "metadata": {
        "id": "-kEgec89ZT5W"
      }
    },
    {
      "cell_type": "markdown",
      "source": [
        "### (b) (10 points) Report the **Average loss of an epoch** for every epoch by generating Average Loss vs. Epoch plot. Please report at least **10** epochs."
      ],
      "metadata": {
        "id": "6Tigk4RBkyFb"
      }
    },
    {
      "cell_type": "code",
      "source": [
        "## Plot:\n",
        "plt.plot(range(1,11), epoch_loss)\n",
        "plt.xlabel('Epochs')\n",
        "plt.ylabel('Average Loss')\n",
        "plt.title('Average Loss of Every Epoch')"
      ],
      "metadata": {
        "id": "S-IUsPlvYEGJ",
        "colab": {
          "base_uri": "https://localhost:8080/",
          "height": 313
        },
        "outputId": "f255ae90-c7ea-473c-8a46-e41828bab093"
      },
      "execution_count": 6,
      "outputs": [
        {
          "output_type": "execute_result",
          "data": {
            "text/plain": [
              "Text(0.5, 1.0, 'Average Loss of Every Epoch')"
            ]
          },
          "metadata": {},
          "execution_count": 6
        },
        {
          "output_type": "display_data",
          "data": {
            "text/plain": [
              "<Figure size 432x288 with 1 Axes>"
            ],
            "image/png": "[encoded data removed]"
          },
          "metadata": {
            "needs_background": "light"
          }
        }
      ]
    },
    {
      "cell_type": "markdown",
      "source": [
        "### (c) (5 points) Report the final testing accuracy of trained model."
      ],
      "metadata": {
        "id": "I0rrCHF0k32r"
      }
    },
    {
      "cell_type": "markdown",
      "source": [
        "The testing accuracy of trained model is 99.91%."
      ],
      "metadata": {
        "id": "cQ8FD7LsV18t"
      }
    },
    {
      "cell_type": "code",
      "source": [
        "## Code:\n",
        "correct = 0\n",
        "total = 0\n",
        "for images, labels in test_loader:\n",
        "    images = Variable(images.view(-1, 28 * 28))\n",
        "    outputs = torch.squeeze(model(images))\n",
        "    predicted = outputs.round().detach().numpy()\n",
        "    total += labels.size(0)\n",
        "    correct += np.sum((predicted == labels.detach().numpy()))\n",
        "\n",
        "print('Accuracy of the model on the test images: %f%%' % (100 * correct / total))"
      ],
      "metadata": {
        "id": "OQpqDtOHWxpp",
        "colab": {
          "base_uri": "https://localhost:8080/"
        },
        "outputId": "8d0bceb0-c143-48df-9339-303125c9d98f"
      },
      "execution_count": 7,
      "outputs": [
        {
          "output_type": "stream",
          "name": "stdout",
          "text": [
            "Accuracy of the model on the test images: 99.905437%\n"
          ]
        }
      ]
    },
    {
      "cell_type": "markdown",
      "source": [
        "### 2. (20 points) Implement **Linear SVM** with Pytorch to do handwritten digit 0 vs. 1 classification. Pick an optimizer yourself. "
      ],
      "metadata": {
        "id": "Yzs9iWPxXTRJ"
      }
    },
    {
      "cell_type": "code",
      "source": [
        "## Implementation of Linear SVM\n",
        "## You can insert more code chunks and text cells if you want to.\n",
        "## Your code:"
      ],
      "metadata": {
        "id": "L1J06Z-dXiEy"
      },
      "execution_count": 8,
      "outputs": []
    },
    {
      "cell_type": "code",
      "source": [
        "class SVM_Loss(nn.modules.Module):    \n",
        "    def __init__(self):\n",
        "        super(SVM_Loss, self).__init__()\n",
        "\n",
        "    def forward(self, outputs, labels):\n",
        "         return torch.mean(torch.clamp(1 - outputs.t() * labels, min=0))"
      ],
      "metadata": {
        "id": "kRUNVsrYiWBD"
      },
      "execution_count": 31,
      "outputs": []
    },
    {
      "cell_type": "code",
      "source": [
        "# The number of epochs is at least 10, you can increase it to achieve better performance\n",
        "num_epochs = 10\n",
        "input_size = 28*28\n",
        "num_classes = 1\n",
        "learning_rate = 0.001\n",
        "momentum = 0.9\n",
        "model = nn.Linear(input_size, num_classes)\n",
        "criterion = SVM_Loss()\n",
        "optimizer = optim.SGD(model.parameters(), lr=learning_rate, momentum=momentum)\n",
        "\n",
        "# Training the Model\n",
        "epoch_loss = []\n",
        "for epoch in range(num_epochs):\n",
        "    total_loss = 0\n",
        "    for i, (images, labels) in enumerate(train_loader):\n",
        "        images = Variable(images.reshape(-1, 28*28))\n",
        "        labels = Variable(2*(labels.float()-0.5))\n",
        "        \n",
        "        outputs = model(images)\n",
        "        loss = criterion(outputs, labels)\n",
        "        \n",
        "        optimizer.zero_grad()\n",
        "        loss.backward()\n",
        "        optimizer.step()\n",
        "        \n",
        "        total_loss += loss.item()\n",
        "\n",
        "        # if (i+1) % 64 == 0:\n",
        "           # print('Epoch: [%d/%d], Step: [%d/%d], Loss: %.4f'% (epoch+1, num_epochs, i+1, len(train_loader), loss.item()))\n",
        "\n",
        "    ## Save average epoch loss\n",
        "    epoch_loss.append(total_loss/len(train_loader))\n",
        "    print('Epoch Loss [%d]: %.4f'% (epoch+1, epoch_loss[epoch]))"
      ],
      "metadata": {
        "colab": {
          "base_uri": "https://localhost:8080/"
        },
        "id": "XnBWjcPQicrx",
        "outputId": "f5e741a0-3cb0-444f-ce19-41b661322b29"
      },
      "execution_count": 32,
      "outputs": [
        {
          "output_type": "stream",
          "name": "stdout",
          "text": [
            "Epoch Loss [1]: 0.0256\n",
            "Epoch Loss [2]: 0.0054\n",
            "Epoch Loss [3]: 0.0044\n",
            "Epoch Loss [4]: 0.0038\n",
            "Epoch Loss [5]: 0.0035\n",
            "Epoch Loss [6]: 0.0032\n",
            "Epoch Loss [7]: 0.0029\n",
            "Epoch Loss [8]: 0.0027\n",
            "Epoch Loss [9]: 0.0025\n",
            "Epoch Loss [10]: 0.0023\n"
          ]
        }
      ]
    },
    {
      "cell_type": "markdown",
      "source": [
        "### (a) (5 points) Report the hyper-parameters (number of epochs, learning rate, momentum etc)."
      ],
      "metadata": {
        "id": "tWwSIMRRZtMX"
      }
    },
    {
      "cell_type": "markdown",
      "source": [
        "Answer:\n",
        "\n",
        "Number of epochs: 10 <br>\n",
        "Learning rate: 0.001 <br>\n",
        "Momentum: 0.9"
      ],
      "metadata": {
        "id": "Y-6Cx2r9Ztnj"
      }
    },
    {
      "cell_type": "markdown",
      "source": [
        "### (b) (10 points) Report the **Average loss of an epoch** for every epoch by generating Average Loss vs. Epoch plot. Please report at least **10** epochs."
      ],
      "metadata": {
        "id": "MBBIhPzMXctJ"
      }
    },
    {
      "cell_type": "code",
      "source": [
        "## Plot:\n",
        "plt.plot(range(1,11), epoch_loss)\n",
        "plt.xlabel('Epochs')\n",
        "plt.ylabel('Average Loss')\n",
        "plt.title('Average Loss of Every Epoch')"
      ],
      "metadata": {
        "id": "JH6w-fvXXkLe",
        "colab": {
          "base_uri": "https://localhost:8080/",
          "height": 313
        },
        "outputId": "64dbfd42-9a9e-4e98-a26c-541a2fe7df69"
      },
      "execution_count": 33,
      "outputs": [
        {
          "output_type": "execute_result",
          "data": {
            "text/plain": [
              "Text(0.5, 1.0, 'Average Loss of Every Epoch')"
            ]
          },
          "metadata": {},
          "execution_count": 33
        },
        {
          "output_type": "display_data",
          "data": {
            "text/plain": [
              "<Figure size 432x288 with 1 Axes>"
            ],
            "image/png": "[encoded data removed]"
          },
          "metadata": {
            "needs_background": "light"
          }
        }
      ]
    },
    {
      "cell_type": "markdown",
      "source": [
        "### (c) (5 points) Report the final testing accuracy of trained model."
      ],
      "metadata": {
        "id": "4-iSjv9UX-z2"
      }
    },
    {
      "cell_type": "markdown",
      "source": [
        "The testing accuracy of trained model is 99.95%."
      ],
      "metadata": {
        "id": "tN-EF1ZGvTBL"
      }
    },
    {
      "cell_type": "code",
      "source": [
        "## Code:\n",
        "correct = 0\n",
        "total = 0\n",
        "for images, labels in test_loader:\n",
        "    images = Variable(images.view(-1, 28 * 28))\n",
        "    outputs = model(images)\n",
        "    predicted = outputs.data >= 0\n",
        "    total += labels.size(0)\n",
        "    correct += (predicted.view(-1).long() == labels).sum()\n",
        "\n",
        "print('Accuracy of the model on the test images: %f%%' % (100 * correct / total))"
      ],
      "metadata": {
        "id": "LvIfrVU7YBMH",
        "colab": {
          "base_uri": "https://localhost:8080/"
        },
        "outputId": "a36f8981-3682-423a-cc5b-d939ca4ea337"
      },
      "execution_count": 34,
      "outputs": [
        {
          "output_type": "stream",
          "name": "stdout",
          "text": [
            "Accuracy of the model on the test images: 99.952721%\n"
          ]
        }
      ]
    },
    {
      "cell_type": "markdown",
      "source": [
        "## Problem 2 (60 points)\n",
        "\n",
        "In this problem you will practice implementing MLP and CNN to classify daily life images (CIFAR10).\n",
        "\n",
        "**Data.** You will use CIFAR10 classification dataset (10 classes). Pytorch/torchvision has provide a useful dataloader to automatically download and load the data into batches. Code of the data loader has been provided in the template. Please don't modify the data loading part."
      ],
      "metadata": {
        "id": "kegz8m6glB3d"
      }
    },
    {
      "cell_type": "code",
      "source": [
        "## Data loading code chunk, please don't modify it. \n",
        "## However, you can adjust the batch size if you want to.\n",
        "batch_size_cifar = 64\n",
        "data_dir = './data'\n",
        "\n",
        "def cifar_loaders(batch_size, shuffle_test=False): \n",
        "    normalize = transforms.Normalize(mean=[0.485, 0.456, 0.406],\n",
        "                                     std=[0.225, 0.225, 0.225])\n",
        "    train = datasets.CIFAR10(data_dir, train=True, download=False, \n",
        "        transform=transforms.Compose([\n",
        "            transforms.RandomHorizontalFlip(),\n",
        "            transforms.RandomCrop(32, 4),\n",
        "            transforms.ToTensor(),\n",
        "            normalize,\n",
        "        ]))\n",
        "    # Once you have downloaded the data by setting download=True, you can\n",
        "    # change download=True to download=False\n",
        "    test = datasets.CIFAR10(data_dir, train=False, \n",
        "        transform=transforms.Compose([transforms.ToTensor(), normalize]))\n",
        "    train_loader = torch.utils.data.DataLoader(train, batch_size=batch_size,\n",
        "        shuffle=True, pin_memory=True)\n",
        "    test_loader = torch.utils.data.DataLoader(test, batch_size=batch_size,\n",
        "        shuffle=shuffle_test, pin_memory=True)\n",
        "    return train_loader, test_loader\n",
        "\n",
        "train_loader, test_loader = cifar_loaders(batch_size_cifar)"
      ],
      "metadata": {
        "id": "sJStVuRpqkzS"
      },
      "execution_count": 13,
      "outputs": []
    },
    {
      "cell_type": "markdown",
      "source": [
        "### **Problem Description.**\n",
        "### 1. (20 points) Implement a 7 layers fully-connected neural networks with ReLU activation to do image classification. "
      ],
      "metadata": {
        "id": "vZWcD3ufnEcJ"
      }
    },
    {
      "cell_type": "code",
      "source": [
        "## Implementation of MLP\n",
        "## You can insert more code chunks and text cells if you want to.\n",
        "## Your code:"
      ],
      "metadata": {
        "id": "Crl5zJ-5aPM3"
      },
      "execution_count": 14,
      "outputs": []
    },
    {
      "cell_type": "code",
      "source": [
        "class MLP(nn.Module):\n",
        "    def __init__(self):\n",
        "        super().__init__()\n",
        "        self.linear1 = nn.Linear(3*32*32, 1024)\n",
        "        self.linear2 = nn.Linear(1024, 512)\n",
        "        self.linear3 = nn.Linear(512, 256)\n",
        "        self.linear4 = nn.Linear(256, 128)\n",
        "        self.linear5 = nn.Linear(128, 96)\n",
        "        self.linear6 = nn.Linear(96, 64)\n",
        "        self.linear7 = nn.Linear(64, 10)\n",
        "        \n",
        "    def forward(self, xb):\n",
        "        # Flatten images into vectors\n",
        "        out = xb.view(xb.size(0), -1)\n",
        "        out = self.linear1(out)\n",
        "        out = F.relu(out)\n",
        "        out = self.linear2(out)\n",
        "        out = F.relu(out)\n",
        "        out = self.linear3(out)\n",
        "        out = F.relu(out)\n",
        "        out = self.linear4(out)\n",
        "        out = F.relu(out)\n",
        "        out = self.linear5(out)\n",
        "        out = F.relu(out)\n",
        "        out = self.linear6(out)\n",
        "        out = F.relu(out)\n",
        "        out = self.linear7(out)\n",
        "        return out"
      ],
      "metadata": {
        "id": "8taUJe_6KqYM"
      },
      "execution_count": 15,
      "outputs": []
    },
    {
      "cell_type": "code",
      "source": [
        "# The number of epochs is at least 10, you can increase it to achieve better performance\n",
        "num_epochs = 50\n",
        "learning_rate = 0.01\n",
        "momentum = 0.9\n",
        "model = MLP()\n",
        "criterion = nn.CrossEntropyLoss()\n",
        "optimizer = optim.SGD(model.parameters(), lr=learning_rate, momentum=momentum)\n",
        "\n",
        "# Training the Model\n",
        "epoch_loss = []\n",
        "for epoch in range(num_epochs):\n",
        "    total_loss = 0\n",
        "    for i, data in enumerate(train_loader, 0):\n",
        "        input, labels = data\n",
        "        \n",
        "        outputs = model(input)\n",
        "        loss = criterion(outputs, labels)\n",
        "\n",
        "        optimizer.zero_grad()\n",
        "        loss.backward()\n",
        "        optimizer.step()\n",
        "        \n",
        "        total_loss += loss.item()\n",
        "\n",
        "        # if (i+1) % 64 == 0:\n",
        "            # print('Epoch: [%d/%d], Step: [%d/%d], Loss: %.4f'% (epoch+1, num_epochs, i+1, len(train_loader), loss.item()))\n",
        "\n",
        "    ## Save average epoch loss\n",
        "    epoch_loss.append(total_loss/len(train_loader))\n",
        "    print('Epoch Loss [%d]: %.4f'% (epoch+1, epoch_loss[epoch]))"
      ],
      "metadata": {
        "colab": {
          "base_uri": "https://localhost:8080/"
        },
        "id": "wShPZ9Bh0tD3",
        "outputId": "9210e878-263c-45e1-f2b5-0add5d478635"
      },
      "execution_count": 16,
      "outputs": [
        {
          "output_type": "stream",
          "name": "stdout",
          "text": [
            "Epoch Loss [1]: 2.0969\n",
            "Epoch Loss [2]: 1.7905\n",
            "Epoch Loss [3]: 1.6584\n",
            "Epoch Loss [4]: 1.5861\n",
            "Epoch Loss [5]: 1.5337\n",
            "Epoch Loss [6]: 1.5026\n",
            "Epoch Loss [7]: 1.4708\n",
            "Epoch Loss [8]: 1.4405\n",
            "Epoch Loss [9]: 1.4178\n",
            "Epoch Loss [10]: 1.3986\n",
            "Epoch Loss [11]: 1.3756\n",
            "Epoch Loss [12]: 1.3625\n",
            "Epoch Loss [13]: 1.3460\n",
            "Epoch Loss [14]: 1.3288\n",
            "Epoch Loss [15]: 1.3192\n",
            "Epoch Loss [16]: 1.3050\n",
            "Epoch Loss [17]: 1.2900\n",
            "Epoch Loss [18]: 1.2768\n",
            "Epoch Loss [19]: 1.2667\n",
            "Epoch Loss [20]: 1.2549\n",
            "Epoch Loss [21]: 1.2415\n",
            "Epoch Loss [22]: 1.2317\n",
            "Epoch Loss [23]: 1.2193\n",
            "Epoch Loss [24]: 1.2114\n",
            "Epoch Loss [25]: 1.2014\n",
            "Epoch Loss [26]: 1.1900\n",
            "Epoch Loss [27]: 1.1819\n",
            "Epoch Loss [28]: 1.1757\n",
            "Epoch Loss [29]: 1.1661\n",
            "Epoch Loss [30]: 1.1554\n",
            "Epoch Loss [31]: 1.1456\n",
            "Epoch Loss [32]: 1.1417\n",
            "Epoch Loss [33]: 1.1292\n",
            "Epoch Loss [34]: 1.1211\n",
            "Epoch Loss [35]: 1.1092\n",
            "Epoch Loss [36]: 1.1097\n",
            "Epoch Loss [37]: 1.0994\n",
            "Epoch Loss [38]: 1.0942\n",
            "Epoch Loss [39]: 1.0877\n",
            "Epoch Loss [40]: 1.0758\n",
            "Epoch Loss [41]: 1.0732\n",
            "Epoch Loss [42]: 1.0669\n",
            "Epoch Loss [43]: 1.0582\n",
            "Epoch Loss [44]: 1.0579\n",
            "Epoch Loss [45]: 1.0497\n",
            "Epoch Loss [46]: 1.0367\n",
            "Epoch Loss [47]: 1.0333\n",
            "Epoch Loss [48]: 1.0272\n",
            "Epoch Loss [49]: 1.0221\n",
            "Epoch Loss [50]: 1.0170\n"
          ]
        }
      ]
    },
    {
      "cell_type": "markdown",
      "source": [
        "### (a) (5 points) Print the model architecture."
      ],
      "metadata": {
        "id": "L7AJxlCVZA4L"
      }
    },
    {
      "cell_type": "code",
      "source": [
        "## Print the model:\n",
        "MLP()"
      ],
      "metadata": {
        "id": "vK8zxDXqZSLw",
        "colab": {
          "base_uri": "https://localhost:8080/"
        },
        "outputId": "de98b088-b7d7-405a-c649-7c2eda4f15f4"
      },
      "execution_count": 17,
      "outputs": [
        {
          "output_type": "execute_result",
          "data": {
            "text/plain": [
              "MLP(\n",
              "  (linear1): Linear(in_features=3072, out_features=1024, bias=True)\n",
              "  (linear2): Linear(in_features=1024, out_features=512, bias=True)\n",
              "  (linear3): Linear(in_features=512, out_features=256, bias=True)\n",
              "  (linear4): Linear(in_features=256, out_features=128, bias=True)\n",
              "  (linear5): Linear(in_features=128, out_features=96, bias=True)\n",
              "  (linear6): Linear(in_features=96, out_features=64, bias=True)\n",
              "  (linear7): Linear(in_features=64, out_features=10, bias=True)\n",
              ")"
            ]
          },
          "metadata": {},
          "execution_count": 17
        }
      ]
    },
    {
      "cell_type": "markdown",
      "source": [
        "### (b) (10 points) Report the **Average loss of an epoch** for every epoch by generating Average Loss vs. Epoch plot. Please report at least **10** epochs."
      ],
      "metadata": {
        "id": "KYWHWEGinOyC"
      }
    },
    {
      "cell_type": "code",
      "source": [
        "## Plot:\n",
        "plt.plot(range(1,51), epoch_loss)\n",
        "plt.xlabel('Epochs')\n",
        "plt.ylabel('Average Loss')\n",
        "plt.title('Average Loss of Every Epoch')"
      ],
      "metadata": {
        "id": "L8pJfqcHm89-",
        "colab": {
          "base_uri": "https://localhost:8080/",
          "height": 313
        },
        "outputId": "8d9d3e6e-dc3d-4101-c140-51efb1d71f9c"
      },
      "execution_count": 18,
      "outputs": [
        {
          "output_type": "execute_result",
          "data": {
            "text/plain": [
              "Text(0.5, 1.0, 'Average Loss of Every Epoch')"
            ]
          },
          "metadata": {},
          "execution_count": 18
        },
        {
          "output_type": "display_data",
          "data": {
            "text/plain": [
              "<Figure size 432x288 with 1 Axes>"
            ],
            "image/png": "[encoded data removed]"
          },
          "metadata": {
            "needs_background": "light"
          }
        }
      ]
    },
    {
      "cell_type": "markdown",
      "source": [
        "### (c) (5 points) Report the final testing accuracy of trained model."
      ],
      "metadata": {
        "id": "2CSl47RKppHM"
      }
    },
    {
      "cell_type": "markdown",
      "source": [
        "The testing accuracy of trained model is 64%."
      ],
      "metadata": {
        "id": "SHBLj-n2PWaL"
      }
    },
    {
      "cell_type": "code",
      "source": [
        "## Code:\n",
        "correct = 0\n",
        "total = 0\n",
        "for i, data in enumerate(train_loader, 0):\n",
        "    input, labels = data\n",
        "    outputs = model(input)\n",
        "    _, predicted = torch.max(outputs.data, 1)\n",
        "    total += labels.size(0)\n",
        "    correct += (predicted == labels).sum()\n",
        "\n",
        "print('Accuracy of the model on the test images: %d%%' % (100 * correct / total))"
      ],
      "metadata": {
        "id": "j56JIxgGabx4",
        "colab": {
          "base_uri": "https://localhost:8080/"
        },
        "outputId": "a83b6382-7ab0-4355-ab85-24780b45da56"
      },
      "execution_count": 19,
      "outputs": [
        {
          "output_type": "stream",
          "name": "stdout",
          "text": [
            "Accuracy of the model on the test images: 64%\n"
          ]
        }
      ]
    },
    {
      "cell_type": "markdown",
      "source": [
        "### 2. (30 points) Implement a 7 layers CNN with 4 convolutional layers, 3 fully-connected layers and ReLU activation function. The input dimension of the 1st fully-connected layer must be 4096."
      ],
      "metadata": {
        "id": "VbHsQrUyqNCR"
      }
    },
    {
      "cell_type": "code",
      "source": [
        "## Implementation of CNN\n",
        "## You can insert more code chunks and text cells if you want to.\n",
        "## Your code:"
      ],
      "metadata": {
        "id": "Uy7Tb8W8qUMr"
      },
      "execution_count": 20,
      "outputs": []
    },
    {
      "cell_type": "code",
      "source": [
        "class CNN(nn.Module):\n",
        "    def __init__(self):\n",
        "        super().__init__()\n",
        "        self.conv1 = nn.Conv2d(3, 6, 5)\n",
        "        self.pool = nn.MaxPool2d(2, 2)\n",
        "        self.conv2 = nn.Conv2d(6, 12, 5)\n",
        "        self.pool = nn.MaxPool2d(2, 2)\n",
        "        self.conv3 = nn.Conv2d(12, 24, 4)\n",
        "        self.pool = nn.MaxPool2d(1, 1)\n",
        "        self.conv4 = nn.Conv2d(24, 16, 6)\n",
        "        self.fc1 = nn.Linear(4096, 512)\n",
        "        self.fc2 = nn.Linear(512, 64)\n",
        "        self.fc3 = nn.Linear(64, 10)\n",
        "        \n",
        "    def forward(self, x):\n",
        "        x = self.pool(F.relu(self.conv1(x)))\n",
        "        x = self.pool(F.relu(self.conv2(x)))\n",
        "        x = self.pool(F.relu(self.conv3(x)))\n",
        "        x = self.pool(F.relu(self.conv4(x)))\n",
        "        x = torch.flatten(x, 1) # flatten all dimensions except batch\n",
        "        x = F.relu(self.fc1(x))\n",
        "        x = F.relu(self.fc2(x))\n",
        "        x = self.fc3(x)\n",
        "        return x"
      ],
      "metadata": {
        "id": "OJWKYm-UOeV6"
      },
      "execution_count": 21,
      "outputs": []
    },
    {
      "cell_type": "code",
      "source": [
        "# The number of epochs is at least 10, you can increase it to achieve better performance\n",
        "num_epochs = 50\n",
        "learning_rate = 0.01\n",
        "momentum = 0.9\n",
        "model = CNN()\n",
        "criterion = nn.CrossEntropyLoss()\n",
        "optimizer = optim.SGD(model.parameters(), lr=learning_rate, momentum=momentum)\n",
        "\n",
        "# Training the Model\n",
        "epoch_loss = []\n",
        "for epoch in range(num_epochs):\n",
        "    total_loss = 0\n",
        "    for i, data in enumerate(train_loader, 0):\n",
        "        input, labels = data\n",
        "        \n",
        "        outputs = model(input)\n",
        "        loss = criterion(outputs, labels)\n",
        "\n",
        "        optimizer.zero_grad()\n",
        "        loss.backward()\n",
        "        optimizer.step()\n",
        "        \n",
        "        total_loss += loss.item()\n",
        "\n",
        "        # if (i+1) % 64 == 0:\n",
        "            # print('Epoch: [%d/%d], Step: [%d/%d], Loss: %.4f'% (epoch+1, num_epochs, i+1, len(train_loader), loss.item()))\n",
        "\n",
        "    ## Save average epoch loss\n",
        "    epoch_loss.append(total_loss/len(train_loader))\n",
        "    print('Epoch Loss [%d]: %.4f'% (epoch+1, epoch_loss[epoch]))"
      ],
      "metadata": {
        "colab": {
          "base_uri": "https://localhost:8080/"
        },
        "id": "0hjpJrVFTG3u",
        "outputId": "00b55573-6925-436e-8e0a-3a4a39a62df2"
      },
      "execution_count": 22,
      "outputs": [
        {
          "output_type": "stream",
          "name": "stdout",
          "text": [
            "Epoch Loss [1]: 1.9577\n",
            "Epoch Loss [2]: 1.6549\n",
            "Epoch Loss [3]: 1.5120\n",
            "Epoch Loss [4]: 1.4001\n",
            "Epoch Loss [5]: 1.3250\n",
            "Epoch Loss [6]: 1.2568\n",
            "Epoch Loss [7]: 1.2079\n",
            "Epoch Loss [8]: 1.1620\n",
            "Epoch Loss [9]: 1.1296\n",
            "Epoch Loss [10]: 1.0859\n",
            "Epoch Loss [11]: 1.0664\n",
            "Epoch Loss [12]: 1.0391\n",
            "Epoch Loss [13]: 1.0257\n",
            "Epoch Loss [14]: 1.0013\n",
            "Epoch Loss [15]: 0.9891\n",
            "Epoch Loss [16]: 0.9714\n",
            "Epoch Loss [17]: 0.9658\n",
            "Epoch Loss [18]: 0.9579\n",
            "Epoch Loss [19]: 0.9417\n",
            "Epoch Loss [20]: 0.9356\n",
            "Epoch Loss [21]: 0.9125\n",
            "Epoch Loss [22]: 0.9125\n",
            "Epoch Loss [23]: 0.9081\n",
            "Epoch Loss [24]: 0.9130\n",
            "Epoch Loss [25]: 0.9015\n",
            "Epoch Loss [26]: 0.8880\n",
            "Epoch Loss [27]: 0.8842\n",
            "Epoch Loss [28]: 0.8825\n",
            "Epoch Loss [29]: 0.8773\n",
            "Epoch Loss [30]: 0.8797\n",
            "Epoch Loss [31]: 0.8763\n",
            "Epoch Loss [32]: 0.8658\n",
            "Epoch Loss [33]: 0.8669\n",
            "Epoch Loss [34]: 0.8499\n",
            "Epoch Loss [35]: 0.8572\n",
            "Epoch Loss [36]: 0.8532\n",
            "Epoch Loss [37]: 0.8444\n",
            "Epoch Loss [38]: 0.8400\n",
            "Epoch Loss [39]: 0.8392\n",
            "Epoch Loss [40]: 0.8323\n",
            "Epoch Loss [41]: 0.8314\n",
            "Epoch Loss [42]: 0.8373\n",
            "Epoch Loss [43]: 0.8327\n",
            "Epoch Loss [44]: 0.8320\n",
            "Epoch Loss [45]: 0.8319\n",
            "Epoch Loss [46]: 0.8285\n",
            "Epoch Loss [47]: 0.8261\n",
            "Epoch Loss [48]: 0.8283\n",
            "Epoch Loss [49]: 0.8220\n",
            "Epoch Loss [50]: 0.8137\n"
          ]
        }
      ]
    },
    {
      "cell_type": "markdown",
      "source": [
        "### (a) (5 points) Print the model architecture."
      ],
      "metadata": {
        "id": "9X_eNkjVqUtJ"
      }
    },
    {
      "cell_type": "code",
      "source": [
        "## Print the model:\n",
        "CNN()"
      ],
      "metadata": {
        "id": "uauSCPLpa5zp",
        "colab": {
          "base_uri": "https://localhost:8080/"
        },
        "outputId": "8ea54984-da81-4adf-99a5-f187a16ef7e5"
      },
      "execution_count": 23,
      "outputs": [
        {
          "output_type": "execute_result",
          "data": {
            "text/plain": [
              "CNN(\n",
              "  (conv1): Conv2d(3, 6, kernel_size=(5, 5), stride=(1, 1))\n",
              "  (pool): MaxPool2d(kernel_size=1, stride=1, padding=0, dilation=1, ceil_mode=False)\n",
              "  (conv2): Conv2d(6, 12, kernel_size=(5, 5), stride=(1, 1))\n",
              "  (conv3): Conv2d(12, 24, kernel_size=(4, 4), stride=(1, 1))\n",
              "  (conv4): Conv2d(24, 16, kernel_size=(6, 6), stride=(1, 1))\n",
              "  (fc1): Linear(in_features=4096, out_features=512, bias=True)\n",
              "  (fc2): Linear(in_features=512, out_features=64, bias=True)\n",
              "  (fc3): Linear(in_features=64, out_features=10, bias=True)\n",
              ")"
            ]
          },
          "metadata": {},
          "execution_count": 23
        }
      ]
    },
    {
      "cell_type": "markdown",
      "source": [
        "### (b) (10 points) Report the **Average loss of an epoch** for every epoch by generating Average Loss vs. Epoch plot. Please report at least **10** epochs."
      ],
      "metadata": {
        "id": "1YsS3aAwa7m5"
      }
    },
    {
      "cell_type": "code",
      "source": [
        "## Plot:\n",
        "plt.plot(range(1,51), epoch_loss)\n",
        "plt.xlabel('Epochs')\n",
        "plt.ylabel('Average Loss')\n",
        "plt.title('Average Loss of Every Epoch')"
      ],
      "metadata": {
        "id": "vHO3ftYObA8O",
        "colab": {
          "base_uri": "https://localhost:8080/",
          "height": 313
        },
        "outputId": "e13c8f59-7396-40e6-cae6-a8120aca316b"
      },
      "execution_count": 24,
      "outputs": [
        {
          "output_type": "execute_result",
          "data": {
            "text/plain": [
              "Text(0.5, 1.0, 'Average Loss of Every Epoch')"
            ]
          },
          "metadata": {},
          "execution_count": 24
        },
        {
          "output_type": "display_data",
          "data": {
            "text/plain": [
              "<Figure size 432x288 with 1 Axes>"
            ],
            "image/png": "[encoded data removed]"
          },
          "metadata": {
            "needs_background": "light"
          }
        }
      ]
    },
    {
      "cell_type": "markdown",
      "source": [
        "### (c) (5 points) Report the final testing accuracy of trained model."
      ],
      "metadata": {
        "id": "pb3abqoabCc1"
      }
    },
    {
      "cell_type": "markdown",
      "source": [
        "The testing accuracy of trained model is 72%."
      ],
      "metadata": {
        "id": "Q3UN--BKWiJX"
      }
    },
    {
      "cell_type": "code",
      "source": [
        "## Code:\n",
        "correct = 0\n",
        "total = 0\n",
        "for i, data in enumerate(train_loader, 0):\n",
        "    input, labels = data\n",
        "    outputs = model(input)\n",
        "    _, predicted = torch.max(outputs.data, 1)\n",
        "    total += labels.size(0)\n",
        "    correct += (predicted == labels).sum()\n",
        "\n",
        "print('Accuracy of the model on the test images: %d%%' % (100 * correct / total))"
      ],
      "metadata": {
        "id": "L7_rnkvdbEWN",
        "colab": {
          "base_uri": "https://localhost:8080/"
        },
        "outputId": "2a18941f-2a76-4ffa-a178-6a442d990673"
      },
      "execution_count": 25,
      "outputs": [
        {
          "output_type": "stream",
          "name": "stdout",
          "text": [
            "Accuracy of the model on the test images: 72%\n"
          ]
        }
      ]
    },
    {
      "cell_type": "markdown",
      "source": [
        "### (d) (10 points) Write a new cifar$\\_$loaders function to try different data augmentation methods."
      ],
      "metadata": {
        "id": "m1tfLFPRbFYZ"
      }
    },
    {
      "cell_type": "code",
      "source": [
        "## Code:\n",
        "batch_size = 100\n",
        "def cifar_loaders(batch_size, shuffle_test=False): \n",
        "    normalize = transforms.Normalize(mean=[0.485, 0.456, 0.406],\n",
        "                                     std=[0.225, 0.225, 0.225])\n",
        "    train = datasets.CIFAR10(data_dir, train=True, download=False, \n",
        "        transform=transforms.Compose([\n",
        "            transforms.RandomGrayscale(0.2),\n",
        "            transforms.RandomRotation(90),\n",
        "            transforms.GaussianBlur(49),\n",
        "            transforms.ToTensor(),\n",
        "            normalize,\n",
        "        ]))\n",
        "    # Once you have downloaded the data by setting download=True, you can\n",
        "    # change download=True to download=False\n",
        "    test = datasets.CIFAR10(data_dir, train=False, \n",
        "        transform=transforms.Compose([transforms.ToTensor(), normalize]))\n",
        "    train_loader = torch.utils.data.DataLoader(train, batch_size=batch_size,\n",
        "        shuffle=True, pin_memory=True)\n",
        "    test_loader = torch.utils.data.DataLoader(test, batch_size=batch_size,\n",
        "        shuffle=shuffle_test, pin_memory=True)\n",
        "    return train, test, train_loader, test_loader\n",
        "\n",
        "train, test, train_loader, test_loader = cifar_loaders(batch_size, shuffle_test=False)"
      ],
      "metadata": {
        "id": "ck8sXvXqbH4C"
      },
      "execution_count": 29,
      "outputs": []
    },
    {
      "cell_type": "markdown",
      "source": [
        "Answer:\n",
        "\n",
        "Different data augmentation method is shown as above."
      ],
      "metadata": {
        "id": "7uUForcfbI1W"
      }
    },
    {
      "cell_type": "markdown",
      "source": [
        "### 3. (10 points) Please compare the results of the two models (MLP and CNN)."
      ],
      "metadata": {
        "id": "pF01LpJsbXSU"
      }
    },
    {
      "cell_type": "markdown",
      "source": [
        "Answer:\n",
        "\n",
        "MLP and CNN are with the same hyper-parameters: <br>\n",
        "Number of epochs: 50; Learning rate: 0.01; Momentum: 0.9\n",
        "\n",
        "With those same hyper-parameters, the testing accuracy of fitting the MLP trained model is 64% while the testing accuracy of fittiing the CNN trained model is 72%.\n",
        "\n",
        "Furthermore, from the Average Loss vs. Epoch plot, we see that CNN trained model converges faster than MLP trained model.\n",
        "\n",
        "Therefore, the CNN model with 4 convolutional layers and 3 fully-connected layers seems to be more precise than the MLP model with 7 fully-connected layers."
      ],
      "metadata": {
        "id": "QpTZ4mm9bZxn"
      }
    }
  ]
}
