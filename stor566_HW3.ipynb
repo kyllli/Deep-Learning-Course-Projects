{
 "cells": [
  {
   "cell_type": "markdown",
   "metadata": {
    "id": "IEI2-l1aTd76"
   },
   "source": [
    "# STOR 566, Homework 3\n",
    "### Instructor: Yao Li\n",
    "### Keywords: LSTM, SST2\n",
    "### Due date: Oct 02, 11:55pm\n",
    "### **Submission Instruction**\n",
    "\n",
    "- Please download this script and use it to answer the questions in the homework. \n",
    "- For submission, please include your code, code output and answers in the script and submit the ipynb file on sakai.\n",
    "- Please don't modify existing cells. But you can add cells between the exercise statements.\n",
    "- To make markdown, please switch the cell type to markdown (from code) - you can hit 'm' when you are in command mode - and use the markdown language. For a brief tutorial see: https://daringfireball.net/projects/markdown/syntax\n",
    "\n",
    "### **References:**\n",
    "\n",
    "- You can follow the setup instructions at [here](https://pytorch.org/get-started/locally/).\n",
    "- A useful tutorial on learning pytorch by examples at [here](https://pytorch.org/tutorials/beginner/pytorch_with_examples.html).\n",
    "- Check Pytorch optimization methods at [here](https://pytorch.org/docs/stable/optim.html).\n",
    "- Check Torchtext tutorial at [here](https://pytorch.org/text/stable/tutorials/sst2_classification_non_distributed.html).\n",
    "\n",
    "\n",
    "### **Evaluation Metrics of Classifiers:**\n",
    "\n",
    "- Average Test Loss (based on the test set): \n",
    "    \\begin{align}\n",
    "\t  \\frac{1}{B}\\sum_{b=1}^B {\\text loss}_b\n",
    "\t  \\end{align}\n",
    "    \n",
    "    - $B$: the total number of batches from the test set\n",
    "    - loss$_b$: the loss of $b$-th batch\n",
    "    - Note: loss$_b$=criteria(output, target), where criteria is the loss function you use.\n",
    "\n",
    "- Testing accuracy: \n",
    "\t\\begin{align}\n",
    "\t\\frac{1}{N}\\sum_{i=1}^N {\\bf 1}(\\hat{y}_i=y_i)\n",
    "\t\\end{align}\t\n",
    "    - $N$: the total number of samples in the testing set\n",
    "    - $y_i$: true label of sample $i$\n",
    "    - $\\hat{y}_i$: predicted label by the model"
   ]
  },
  {
   "cell_type": "markdown",
   "metadata": {
    "id": "0dfB-w80VX8M"
   },
   "source": [
    "## Problem 1 (100 points)\n",
    "\n",
    "In this problem you will practice implementing LSTM on SST2 data set to do sentiment analysis (binary classification of positive vs. negative).\n",
    "\n",
    "**Data.** You will use SST2 dataset. Pytorch/torchdata has provide a useful dataloader to automatically download and load the data into batches. In this homework, you need two class, positive and negative, for binary classification. Code of the data loader has been provided in the template. You can modify the data loading part to use different tokenizer."
   ]
  },
  {
   "cell_type": "code",
   "execution_count": null,
   "metadata": {
    "id": "vyps0ASzWrIR"
   },
   "outputs": [],
   "source": [
    "'''\n",
    "# You need package torchdata for this homework\n",
    "# To avoid loading it every time, you can install torchdata to a path on google drive\n",
    "import os\n",
    "from google.colab import drive\n",
    "drive.mount('/content/drive')\n",
    "pkg_path = '/content/drive/MyDrive/DIR_FOR_PKGS'\n",
    "!pip install --target=$pkg_path torchdata\n",
    "\n",
    "# Append the path to the sys path to load the pkg without re-installation\n",
    "import sys\n",
    "pkg_path = '/content/drive/MyDrive/DIR_FOR_PKGS'\n",
    "sys.path.append(pkg_path)\n",
    "import torchdata\n",
    "'''"
   ]
  },
  {
   "cell_type": "code",
   "execution_count": 1,
   "metadata": {
    "colab": {
     "base_uri": "https://localhost:8080/"
    },
    "id": "g_3xFeJ3Fzgn",
    "outputId": "b65257e8-64bc-4e36-afb7-7690117d9f0f"
   },
   "outputs": [
    {
     "name": "stdout",
     "output_type": "stream",
     "text": [
      "Mounted at /content/drive\n"
     ]
    }
   ],
   "source": [
    "# Mount your drive\n",
    "import os\n",
    "import sys\n",
    "from google.colab import drive\n",
    "drive.mount('/content/drive')\n",
    "pkg_path = '/content/drive/MyDrive/DIR_FOR_PKGS' #Please specify the path where you installed torchdata\n",
    "sys.path.append(pkg_path)"
   ]
  },
  {
   "cell_type": "code",
   "execution_count": 2,
   "metadata": {
    "id": "MRzytmA9F5Ko"
   },
   "outputs": [],
   "source": [
    "# Package Loading\n",
    "# Feel free to add pakcages\n",
    "from torch.autograd import Variable\n",
    "import numpy as np\n",
    "import matplotlib.pyplot as plt\n",
    "import torchdata\n",
    "import torch\n",
    "import torch.nn as nn\n",
    "import torchtext.transforms as T\n",
    "import torchtext.functional as F\n",
    "from torchtext.datasets import SST2\n",
    "from torch.utils.data import DataLoader\n",
    "from torch.hub import load_state_dict_from_url\n",
    "device = torch.device(\"cuda\") if torch.cuda.is_available() else torch.device(\"cpu\")"
   ]
  },
  {
   "cell_type": "code",
   "execution_count": 3,
   "metadata": {
    "colab": {
     "base_uri": "https://localhost:8080/",
     "height": 85,
     "referenced_widgets": [
      "0c345f16c0aa4525a564cf16e1e662f0",
      "d991f4c5fdb948f4a6ff89588216756b",
      "2a57cb4095a646268bda0fff544d056e",
      "b9ea874bdace459bb619ecfa8d7f64ed",
      "dbce64b7aca2425d94b2b2319f46f7f9",
      "0b31ae1df4054590bad0d4d6e12935be",
      "2b1590353eed4ef585a2e4c766909d04",
      "8b619448fbce44749dc19447af306dd6",
      "ac118607951a4592bc194f27646cb9da",
      "7d43567d62b344a39b49f9ce8263cca6",
      "e0e6b288078045f496e5f0e7919665f9"
     ]
    },
    "id": "zLGsNcZ6F7Vj",
    "outputId": "f37e3968-5336-4418-8582-a09646b8523d"
   },
   "outputs": [
    {
     "name": "stderr",
     "output_type": "stream",
     "text": [
      "Downloading: \"https://download.pytorch.org/models/text/xlmr.vocab.pt\" to /root/.cache/torch/hub/checkpoints/xlmr.vocab.pt\n"
     ]
    },
    {
     "data": {
      "application/vnd.jupyter.widget-view+json": {
       "model_id": "0c345f16c0aa4525a564cf16e1e662f0",
       "version_major": 2,
       "version_minor": 0
      },
      "text/plain": [
       "  0%|          | 0.00/4.85M [00:00<?, ?B/s]"
      ]
     },
     "metadata": {},
     "output_type": "display_data"
    },
    {
     "name": "stderr",
     "output_type": "stream",
     "text": [
      "100%|â–ˆâ–ˆâ–ˆâ–ˆâ–ˆâ–ˆâ–ˆâ–ˆâ–ˆâ–ˆ| 5.07M/5.07M [00:00<00:00, 58.1MB/s]\n"
     ]
    }
   ],
   "source": [
    "# Prepare data loader\n",
    "# Feel free to modify the data loading process as needed\n",
    "padding_idx = 1\n",
    "bos_idx = 0\n",
    "eos_idx = 2\n",
    "batch_size = 16\n",
    "max_seq_len = 256\n",
    "# You can use other Tokenizer\n",
    "xlmr_vocab_path = r\"https://download.pytorch.org/models/text/xlmr.vocab.pt\"\n",
    "xlmr_spm_model_path = r\"https://download.pytorch.org/models/text/xlmr.sentencepiece.bpe.model\"\n",
    "xmlr_vocab = load_state_dict_from_url(xlmr_vocab_path)\n",
    "\n",
    "text_transform = T.Sequential(\n",
    "    T.SentencePieceTokenizer(xlmr_spm_model_path),\n",
    "    T.VocabTransform(xmlr_vocab),\n",
    "    T.Truncate(max_seq_len - 2),\n",
    "    T.AddToken(token=bos_idx, begin=True),\n",
    "    T.AddToken(token=eos_idx, begin=False),\n",
    ")\n",
    "\n",
    "train_datapipe = SST2(split=\"train\")\n",
    "test_datapipe = SST2(split=\"dev\")\n",
    "\n",
    "def apply_transform(x):\n",
    "    return text_transform(x[0]), x[1]\n",
    "\n",
    "train_datapipe = train_datapipe.map(apply_transform)\n",
    "train_datapipe = train_datapipe.batch(batch_size)\n",
    "train_datapipe = train_datapipe.rows2columnar([\"token_ids\", \"target\"])\n",
    "train_dataloader = DataLoader(train_datapipe, batch_size=None)\n",
    "\n",
    "test_datapipe = test_datapipe.map(apply_transform)\n",
    "test_datapipe = test_datapipe.batch(batch_size)\n",
    "test_datapipe = test_datapipe.rows2columnar([\"token_ids\", \"target\"])\n",
    "test_dataloader = DataLoader(test_datapipe, batch_size=None)"
   ]
  },
  {
   "cell_type": "markdown",
   "metadata": {
    "id": "QzU9SoM_fkAg"
   },
   "source": [
    "### **Problem Description.** Implement **LSTM** with Pytorch to do binary classification.\n",
    "\n",
    "### (a) (15 points) Print the model architecture."
   ]
  },
  {
   "cell_type": "code",
   "execution_count": null,
   "metadata": {
    "id": "aRLxw5LIf_ml"
   },
   "outputs": [],
   "source": [
    "## Code:"
   ]
  },
  {
   "cell_type": "code",
   "execution_count": 4,
   "metadata": {
    "id": "U_lG725BaPRu"
   },
   "outputs": [],
   "source": [
    "class LSTM(nn.Module):\n",
    "    def __init__(self, num_classes, input_size, hidden_size, num_layers, vocab_size):\n",
    "        super(LSTM, self).__init__()\n",
    "        self.num_classes = num_classes #number of classes\n",
    "        self.num_layers = num_layers #number of layers\n",
    "        self.input_size = input_size #input size\n",
    "        self.hidden_size = hidden_size #hidden state\n",
    "\n",
    "        self.embedding = nn.Embedding(vocab_size, input_size)\n",
    "        self.lstm = nn.LSTM(input_size=input_size, hidden_size=hidden_size,\n",
    "                          num_layers=num_layers, batch_first=True) #lstm\n",
    "        self.drop = nn.Dropout(p=0.5)\n",
    "        self.fc = nn.Linear(hidden_size, num_classes) #fully connected last layer\n",
    "    \n",
    "    def forward(self,x):\n",
    "        embedding = self.embedding(x)\n",
    "        h_0 = Variable(torch.zeros(self.num_layers, x.size(0), self.hidden_size)) #hidden state\n",
    "        c_0 = Variable(torch.zeros(self.num_layers, x.size(0), self.hidden_size)) #internal state\n",
    "        # Propagate input through LSTM\n",
    "        output, (hn, cn) = self.lstm(embedding, (h_0, c_0)) #lstm with input, hidden, and internal state\n",
    "        hn = hn.view(-1, self.hidden_size) #reshaping the data for Dense layer next\n",
    "        out = self.drop(hn)\n",
    "        out = self.fc(out) #Final Output\n",
    "        out = torch.squeeze(out, 1)\n",
    "        out = torch.sigmoid(out)\n",
    "        return out"
   ]
  },
  {
   "cell_type": "code",
   "execution_count": 5,
   "metadata": {
    "colab": {
     "base_uri": "https://localhost:8080/"
    },
    "id": "I9W0XJN-aRi-",
    "outputId": "a3e1f95a-ab14-4171-aa80-ed0dc04d43eb"
   },
   "outputs": [
    {
     "data": {
      "text/plain": [
       "LSTM(\n",
       "  (embedding): Embedding(250002, 768)\n",
       "  (lstm): LSTM(768, 128, batch_first=True)\n",
       "  (drop): Dropout(p=0.5, inplace=False)\n",
       "  (fc): Linear(in_features=128, out_features=1, bias=True)\n",
       ")"
      ]
     },
     "execution_count": 5,
     "metadata": {},
     "output_type": "execute_result"
    }
   ],
   "source": [
    "LSTM(num_classes=1, input_size=768, hidden_size=128, num_layers=1, vocab_size=250002)"
   ]
  },
  {
   "cell_type": "markdown",
   "metadata": {
    "id": "vSd9yYv8fu2K"
   },
   "source": [
    "### (b) (10 points) Report the hyper-parameters (number of epochs, learning rate, momentum, weight_decay etc)."
   ]
  },
  {
   "cell_type": "markdown",
   "metadata": {
    "id": "nyaK8gHOgch-"
   },
   "source": [
    "Answer:\n",
    "\n",
    "number of epochs: 10 <br>\n",
    "learning rate = 1e-03 <br>\n",
    "betas = (0.9, 0.999) <br>\n",
    "eps = 1e-08 <br>\n",
    "weight_decay = 1e-03"
   ]
  },
  {
   "cell_type": "markdown",
   "metadata": {
    "id": "NWkYLZMxgapU"
   },
   "source": [
    "### (c) (60 points) Report the **Average Test Loss** after every training epoch by generating Average Test Loss vs. Epoch plot. Please report at least **10** epochs. Note that **Average Test Loss** is based on the test set.\n"
   ]
  },
  {
   "cell_type": "code",
   "execution_count": null,
   "metadata": {
    "id": "KmLDghkEbeia"
   },
   "outputs": [],
   "source": [
    "## Code:"
   ]
  },
  {
   "cell_type": "code",
   "execution_count": 9,
   "metadata": {
    "colab": {
     "base_uri": "https://localhost:8080/"
    },
    "id": "6b8tL1MQ98c1",
    "outputId": "f7c5ccee-e92c-46d8-dc00-bf11c1d877c9"
   },
   "outputs": [
    {
     "name": "stdout",
     "output_type": "stream",
     "text": [
      "Epoch = [1], loss = 0.6974681269038807\n",
      "Epoch = [2], loss = 0.6972143449783326\n",
      "Epoch = [3], loss = 0.6968804495117881\n",
      "Epoch = [4], loss = 0.6967130894227461\n",
      "Epoch = [5], loss = 0.6950220299200578\n",
      "Epoch = [6], loss = 0.6947579866322604\n",
      "Epoch = [7], loss = 0.6971169160496105\n",
      "Epoch = [8], loss = 0.7005228820714083\n",
      "Epoch = [9], loss = 0.699811110756614\n",
      "Epoch = [10], loss = 0.6978847605531866\n"
     ]
    }
   ],
   "source": [
    "num_epochs = 10\n",
    "criterion = nn.BCELoss(weight=None, size_average=None, reduce=None, reduction='mean')\n",
    "model = LSTM(num_classes=1, input_size=768, hidden_size=128, num_layers=1, vocab_size=250002).to(device)\n",
    "optimizer = torch.optim.Adam(model.parameters(), lr=1e-03, betas=(0.9, 0.999), eps=1e-08, weight_decay=1e-03)\n",
    "\n",
    "epoch_loss = []\n",
    "model.train()\n",
    "for epoch in range(num_epochs):\n",
    "    i = 0\n",
    "    total_loss = 0\n",
    "    run = 0\n",
    "    correct = 0\n",
    "    total = 0\n",
    "    for batch in train_dataloader:\n",
    "        input = F.to_tensor(batch[\"token_ids\"], padding_value=padding_idx).to(device=device)\n",
    "        target = torch.tensor(batch[\"target\"]).to(device=device, dtype=torch.float)\n",
    "\n",
    "        outputs = model(input)\n",
    "        loss = criterion(outputs, target)\n",
    "        \n",
    "        optimizer.zero_grad()\n",
    "        loss.backward()\n",
    "        optimizer.step()\n",
    "        \n",
    "        i += 1\n",
    "#         if i%100 == 0:\n",
    "#            print(\"Iteration = [{} / 4210], loss = {}\".format(i, loss.item()))\n",
    "    \n",
    "#     print(\"Batches end.\")\n",
    "\n",
    "    model.eval()\n",
    "    for test in test_dataloader:\n",
    "        testinput = F.to_tensor(test[\"token_ids\"], padding_value=padding_idx).to(device=device)\n",
    "        testtarget = torch.tensor(test[\"target\"]).to(device=device, dtype=torch.float)\n",
    "\n",
    "        testoutputs = model(testinput)\n",
    "        testloss = criterion(testoutputs, testtarget)\n",
    "\n",
    "        predicted = testoutputs.round().detach().numpy()\n",
    "        total += testtarget.size(0)\n",
    "        correct += np.sum((predicted == testtarget.detach().numpy()))\n",
    "\n",
    "        total_loss += testloss.item()\n",
    "        run += 1\n",
    "    \n",
    "    epoch_loss.append(total_loss/run)\n",
    "    print(\"Epoch = [{}], loss = {}\".format(epoch + 1, total_loss / run))\n",
    "\n",
    "accuracy = 100 * correct / total"
   ]
  },
  {
   "cell_type": "code",
   "execution_count": null,
   "metadata": {
    "id": "0yM6NLFig4bF"
   },
   "outputs": [],
   "source": [
    "## Plot:"
   ]
  },
  {
   "cell_type": "code",
   "execution_count": 10,
   "metadata": {
    "colab": {
     "base_uri": "https://localhost:8080/",
     "height": 313
    },
    "id": "gTxbKE1xa0tw",
    "outputId": "e0b45fe4-7b9d-4429-db26-2e709b7c3976"
   },
   "outputs": [
    {
     "data": {
      "text/plain": [
       "Text(0.5, 1.0, 'Average Loss of Every Epoch')"
      ]
     },
     "execution_count": 10,
     "metadata": {},
     "output_type": "execute_result"
    },
    {
     "data": {
      "image/png": "[encoded data removed]",
      "text/plain": [
       "<Figure size 432x288 with 1 Axes>"
      ]
     },
     "metadata": {
      "needs_background": "light"
     },
     "output_type": "display_data"
    }
   ],
   "source": [
    "plt.plot(range(1,11), epoch_loss)\n",
    "plt.xlabel('Epochs')\n",
    "plt.ylabel('Average Loss')\n",
    "plt.title('Average Loss of Every Epoch')"
   ]
  },
  {
   "cell_type": "markdown",
   "metadata": {
    "id": "Rv2InAYwg5j1"
   },
   "source": [
    "### (d) (15 points) Report the final testing accuracy of trained model."
   ]
  },
  {
   "cell_type": "markdown",
   "metadata": {
    "id": "0bt2-kE9hHtB"
   },
   "source": [
    "Answer:\n",
    "\n",
    "The final testing accuracy of trained model is 50.9%.\n",
    "\n",
    "The training process takes very long time, somewhat indicating the model is hard to train. In addition, the relatively small accuracy implies the model is not trained very well. From the loss plot, we can find that the average losses are nearly the same for 10 epochs, which means that the model does not change a lot after 10 epochs. During the training process, the loss fluctuates between 0.5 to 0.8 (mostly around 0.7). After 4 epochs, generally, the trained loss steadily modestly increases maybe because of the overfitting.\n",
    "\n",
    "The testing accuracies for 10 epochs are all around 50%, but in the training batch, the accuracy reaches up to about 65%, which means the model seems acceptable for some specific training batch, but not acceptable for the whole testing dataset."
   ]
  },
  {
   "cell_type": "code",
   "execution_count": 11,
   "metadata": {
    "colab": {
     "base_uri": "https://localhost:8080/"
    },
    "id": "flQtcjXYbV5s",
    "outputId": "eae07c60-9ca9-46ad-f0a7-99977408df5d"
   },
   "outputs": [
    {
     "data": {
      "text/plain": [
       "50.91743119266055"
      ]
     },
     "execution_count": 11,
     "metadata": {},
     "output_type": "execute_result"
    }
   ],
   "source": [
    "accuracy"
   ]
  }
 ],
 "metadata": {
  "colab": {
   "collapsed_sections": [],
   "provenance": []
  },
  "kernelspec": {
   "display_name": "Python 3",
   "language": "python",
   "name": "python3"
  },
  "language_info": {
   "codemirror_mode": {
    "name": "ipython",
    "version": 3
   },
   "file_extension": ".py",
   "mimetype": "text/x-python",
   "name": "python",
   "nbconvert_exporter": "python",
   "pygments_lexer": "ipython3",
   "version": "3.8.8"
  },
  "widgets": {
   "application/vnd.jupyter.widget-state+json": {
    "0b31ae1df4054590bad0d4d6e12935be": {
     "model_module": "@jupyter-widgets/base",
     "model_module_version": "1.2.0",
     "model_name": "LayoutModel",
     "state": {
      "_model_module": "@jupyter-widgets/base",
      "_model_module_version": "1.2.0",
      "_model_name": "LayoutModel",
      "_view_count": null,
      "_view_module": "@jupyter-widgets/base",
      "_view_module_version": "1.2.0",
      "_view_name": "LayoutView",
      "align_content": null,
      "align_items": null,
      "align_self": null,
      "border": null,
      "bottom": null,
      "display": null,
      "flex": null,
      "flex_flow": null,
      "grid_area": null,
      "grid_auto_columns": null,
      "grid_auto_flow": null,
      "grid_auto_rows": null,
      "grid_column": null,
      "grid_gap": null,
      "grid_row": null,
      "grid_template_areas": null,
      "grid_template_columns": null,
      "grid_template_rows": null,
      "height": null,
      "justify_content": null,
      "justify_items": null,
      "left": null,
      "margin": null,
      "max_height": null,
      "max_width": null,
      "min_height": null,
      "min_width": null,
      "object_fit": null,
      "object_position": null,
      "order": null,
      "overflow": null,
      "overflow_x": null,
      "overflow_y": null,
      "padding": null,
      "right": null,
      "top": null,
      "visibility": null,
      "width": null
     }
    },
    "0c345f16c0aa4525a564cf16e1e662f0": {
     "model_module": "@jupyter-widgets/controls",
     "model_module_version": "1.5.0",
     "model_name": "HBoxModel",
     "state": {
      "_dom_classes": [],
      "_model_module": "@jupyter-widgets/controls",
      "_model_module_version": "1.5.0",
      "_model_name": "HBoxModel",
      "_view_count": null,
      "_view_module": "@jupyter-widgets/controls",
      "_view_module_version": "1.5.0",
      "_view_name": "HBoxView",
      "box_style": "",
      "children": [
       "IPY_MODEL_d991f4c5fdb948f4a6ff89588216756b",
       "IPY_MODEL_2a57cb4095a646268bda0fff544d056e",
       "IPY_MODEL_b9ea874bdace459bb619ecfa8d7f64ed"
      ],
      "layout": "IPY_MODEL_dbce64b7aca2425d94b2b2319f46f7f9"
     }
    },
    "2a57cb4095a646268bda0fff544d056e": {
     "model_module": "@jupyter-widgets/controls",
     "model_module_version": "1.5.0",
     "model_name": "FloatProgressModel",
     "state": {
      "_dom_classes": [],
      "_model_module": "@jupyter-widgets/controls",
      "_model_module_version": "1.5.0",
      "_model_name": "FloatProgressModel",
      "_view_count": null,
      "_view_module": "@jupyter-widgets/controls",
      "_view_module_version": "1.5.0",
      "_view_name": "ProgressView",
      "bar_style": "success",
      "description": "",
      "description_tooltip": null,
      "layout": "IPY_MODEL_8b619448fbce44749dc19447af306dd6",
      "max": 5082095,
      "min": 0,
      "orientation": "horizontal",
      "style": "IPY_MODEL_ac118607951a4592bc194f27646cb9da",
      "value": 5082095
     }
    },
    "2b1590353eed4ef585a2e4c766909d04": {
     "model_module": "@jupyter-widgets/controls",
     "model_module_version": "1.5.0",
     "model_name": "DescriptionStyleModel",
     "state": {
      "_model_module": "@jupyter-widgets/controls",
      "_model_module_version": "1.5.0",
      "_model_name": "DescriptionStyleModel",
      "_view_count": null,
      "_view_module": "@jupyter-widgets/base",
      "_view_module_version": "1.2.0",
      "_view_name": "StyleView",
      "description_width": ""
     }
    },
    "7d43567d62b344a39b49f9ce8263cca6": {
     "model_module": "@jupyter-widgets/base",
     "model_module_version": "1.2.0",
     "model_name": "LayoutModel",
     "state": {
      "_model_module": "@jupyter-widgets/base",
      "_model_module_version": "1.2.0",
      "_model_name": "LayoutModel",
      "_view_count": null,
      "_view_module": "@jupyter-widgets/base",
      "_view_module_version": "1.2.0",
      "_view_name": "LayoutView",
      "align_content": null,
      "align_items": null,
      "align_self": null,
      "border": null,
      "bottom": null,
      "display": null,
      "flex": null,
      "flex_flow": null,
      "grid_area": null,
      "grid_auto_columns": null,
      "grid_auto_flow": null,
      "grid_auto_rows": null,
      "grid_column": null,
      "grid_gap": null,
      "grid_row": null,
      "grid_template_areas": null,
      "grid_template_columns": null,
      "grid_template_rows": null,
      "height": null,
      "justify_content": null,
      "justify_items": null,
      "left": null,
      "margin": null,
      "max_height": null,
      "max_width": null,
      "min_height": null,
      "min_width": null,
      "object_fit": null,
      "object_position": null,
      "order": null,
      "overflow": null,
      "overflow_x": null,
      "overflow_y": null,
      "padding": null,
      "right": null,
      "top": null,
      "visibility": null,
      "width": null
     }
    },
    "8b619448fbce44749dc19447af306dd6": {
     "model_module": "@jupyter-widgets/base",
     "model_module_version": "1.2.0",
     "model_name": "LayoutModel",
     "state": {
      "_model_module": "@jupyter-widgets/base",
      "_model_module_version": "1.2.0",
      "_model_name": "LayoutModel",
      "_view_count": null,
      "_view_module": "@jupyter-widgets/base",
      "_view_module_version": "1.2.0",
      "_view_name": "LayoutView",
      "align_content": null,
      "align_items": null,
      "align_self": null,
      "border": null,
      "bottom": null,
      "display": null,
      "flex": null,
      "flex_flow": null,
      "grid_area": null,
      "grid_auto_columns": null,
      "grid_auto_flow": null,
      "grid_auto_rows": null,
      "grid_column": null,
      "grid_gap": null,
      "grid_row": null,
      "grid_template_areas": null,
      "grid_template_columns": null,
      "grid_template_rows": null,
      "height": null,
      "justify_content": null,
      "justify_items": null,
      "left": null,
      "margin": null,
      "max_height": null,
      "max_width": null,
      "min_height": null,
      "min_width": null,
      "object_fit": null,
      "object_position": null,
      "order": null,
      "overflow": null,
      "overflow_x": null,
      "overflow_y": null,
      "padding": null,
      "right": null,
      "top": null,
      "visibility": null,
      "width": null
     }
    },
    "ac118607951a4592bc194f27646cb9da": {
     "model_module": "@jupyter-widgets/controls",
     "model_module_version": "1.5.0",
     "model_name": "ProgressStyleModel",
     "state": {
      "_model_module": "@jupyter-widgets/controls",
      "_model_module_version": "1.5.0",
      "_model_name": "ProgressStyleModel",
      "_view_count": null,
      "_view_module": "@jupyter-widgets/base",
      "_view_module_version": "1.2.0",
      "_view_name": "StyleView",
      "bar_color": null,
      "description_width": ""
     }
    },
    "b9ea874bdace459bb619ecfa8d7f64ed": {
     "model_module": "@jupyter-widgets/controls",
     "model_module_version": "1.5.0",
     "model_name": "HTMLModel",
     "state": {
      "_dom_classes": [],
      "_model_module": "@jupyter-widgets/controls",
      "_model_module_version": "1.5.0",
      "_model_name": "HTMLModel",
      "_view_count": null,
      "_view_module": "@jupyter-widgets/controls",
      "_view_module_version": "1.5.0",
      "_view_name": "HTMLView",
      "description": "",
      "description_tooltip": null,
      "layout": "IPY_MODEL_7d43567d62b344a39b49f9ce8263cca6",
      "placeholder": "â€‹",
      "style": "IPY_MODEL_e0e6b288078045f496e5f0e7919665f9",
      "value": " 4.85M/4.85M [00:00&lt;00:00, 4.41MB/s]"
     }
    },
    "d991f4c5fdb948f4a6ff89588216756b": {
     "model_module": "@jupyter-widgets/controls",
     "model_module_version": "1.5.0",
     "model_name": "HTMLModel",
     "state": {
      "_dom_classes": [],
      "_model_module": "@jupyter-widgets/controls",
      "_model_module_version": "1.5.0",
      "_model_name": "HTMLModel",
      "_view_count": null,
      "_view_module": "@jupyter-widgets/controls",
      "_view_module_version": "1.5.0",
      "_view_name": "HTMLView",
      "description": "",
      "description_tooltip": null,
      "layout": "IPY_MODEL_0b31ae1df4054590bad0d4d6e12935be",
      "placeholder": "â€‹",
      "style": "IPY_MODEL_2b1590353eed4ef585a2e4c766909d04",
      "value": "100%"
     }
    },
    "dbce64b7aca2425d94b2b2319f46f7f9": {
     "model_module": "@jupyter-widgets/base",
     "model_module_version": "1.2.0",
     "model_name": "LayoutModel",
     "state": {
      "_model_module": "@jupyter-widgets/base",
      "_model_module_version": "1.2.0",
      "_model_name": "LayoutModel",
      "_view_count": null,
      "_view_module": "@jupyter-widgets/base",
      "_view_module_version": "1.2.0",
      "_view_name": "LayoutView",
      "align_content": null,
      "align_items": null,
      "align_self": null,
      "border": null,
      "bottom": null,
      "display": null,
      "flex": null,
      "flex_flow": null,
      "grid_area": null,
      "grid_auto_columns": null,
      "grid_auto_flow": null,
      "grid_auto_rows": null,
      "grid_column": null,
      "grid_gap": null,
      "grid_row": null,
      "grid_template_areas": null,
      "grid_template_columns": null,
      "grid_template_rows": null,
      "height": null,
      "justify_content": null,
      "justify_items": null,
      "left": null,
      "margin": null,
      "max_height": null,
      "max_width": null,
      "min_height": null,
      "min_width": null,
      "object_fit": null,
      "object_position": null,
      "order": null,
      "overflow": null,
      "overflow_x": null,
      "overflow_y": null,
      "padding": null,
      "right": null,
      "top": null,
      "visibility": null,
      "width": null
     }
    },
    "e0e6b288078045f496e5f0e7919665f9": {
     "model_module": "@jupyter-widgets/controls",
     "model_module_version": "1.5.0",
     "model_name": "DescriptionStyleModel",
     "state": {
      "_model_module": "@jupyter-widgets/controls",
      "_model_module_version": "1.5.0",
      "_model_name": "DescriptionStyleModel",
      "_view_count": null,
      "_view_module": "@jupyter-widgets/base",
      "_view_module_version": "1.2.0",
      "_view_name": "StyleView",
      "description_width": ""
     }
    }
   }
  }
 },
 "nbformat": 4,
 "nbformat_minor": 1
}
