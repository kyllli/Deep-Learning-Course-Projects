{
  "nbformat": 4,
  "nbformat_minor": 0,
  "metadata": {
    "colab": {
      "provenance": [],
      "collapsed_sections": []
    },
    "kernelspec": {
      "name": "python3",
      "display_name": "Python 3"
    },
    "language_info": {
      "name": "python"
    }
  },
  "cells": [
    {
      "cell_type": "markdown",
      "source": [
        "# STOR 566, Homework 1\n",
        "### Instructor: Yao Li\n",
        "### Keywords: optimization\n",
        "### Due date: Sep 07, 11:55pm\n",
        "### **Submission Instruction**\n",
        "\n",
        "- Please download this script and use it to answer the questions in the homework. \n",
        "- For submission, please include your code, code output and answers in the script and submit the ipynb file on sakai.\n",
        "- Please don't modify existing cells. But you can add cells between the exercise statements.\n",
        "- To make markdown, please switch the cell type to markdown (from code) - you can hit 'm' when you are in command mode - and use the markdown language. For a brief tutorial see: https://daringfireball.net/projects/markdown/syntax\n"
      ],
      "metadata": {
        "id": "0D6giqCEScfp"
      }
    },
    {
      "cell_type": "code",
      "source": [
        "import os\n",
        "import time\n",
        "import numpy as np\n",
        "import math\n",
        "import matplotlib.pyplot as plt\n",
        "from tqdm import tqdm\n",
        "import torch\n",
        "import torch.nn as nn\n",
        "import torch.optim as optim\n",
        "import pandas as pd"
      ],
      "metadata": {
        "id": "g04ytfTXGoI9"
      },
      "execution_count": 1,
      "outputs": []
    },
    {
      "cell_type": "code",
      "source": [
        "from google.colab import drive \n",
        "drive.mount('/content/drive')\n",
        "root_path = 'gdrive/My Drive/Colab Notebooks/'"
      ],
      "metadata": {
        "colab": {
          "base_uri": "https://localhost:8080/"
        },
        "id": "txM9l4q6Gx2x",
        "outputId": "544f6d64-ec3e-4ae6-d6f3-03f8f009d37a"
      },
      "execution_count": 2,
      "outputs": [
        {
          "output_type": "stream",
          "name": "stdout",
          "text": [
            "Drive already mounted at /content/drive; to attempt to forcibly remount, call drive.mount(\"/content/drive\", force_remount=True).\n"
          ]
        }
      ]
    },
    {
      "cell_type": "markdown",
      "source": [
        "## Problem 1 (10 points)\n",
        "\n",
        "Prove whether the following functions are convex or not.\n",
        "- (a) (5 points) $f(x_1,x_2)=(x_1x_2-1)^2$, where $x_1, x_2\\in \\mathbb{R}$.\n",
        "- (b) (5 points) $f(\\mathbf{w}_1, \\mathbf{w}_2)=\\|\\mathbf{w}_1-\\mathbf{w}_2\\|^2_2$,  where $\\mathbf{w}_1, \\mathbf{w}_2\\in \\mathbb{R}^2$.\n"
      ],
      "metadata": {
        "id": "rB6khqRukUzQ"
      }
    },
    {
      "cell_type": "markdown",
      "source": [
        "#### Solution of Problem 1 (a):\n",
        "\n",
        "$f(x_1,x_2)=x_1^2x_2^2-2x_1x_2+1$ <br>\n",
        "$\\frac{∂^2f}{∂x_1^2} = \\frac{∂f}{∂x_1}(\\frac{∂f}{∂x_1}) = \\frac{∂f}{∂x_1}(2x_1x_2^2-2x_2) = 2x_2^2$ <br>\n",
        "Therefore, $f(x_1,x_2)$ is twice-differentiable. <br>\n",
        "\n",
        "Hessian matrix $A = \\begin{bmatrix} \\frac{∂^2f}{∂x_1^2} & \\frac{∂^2f}{∂x_1∂x_2} \\\\ \\frac{∂^2f}{∂x_2∂x_1} & \\frac{∂^2f}{∂x_2^2} \\end{bmatrix} = \\begin{bmatrix} 2{x_2}^2 & 4x_1x_2 - 2 \\\\ 4x_1x_2 - 2 & 2{x_1}^2 \\end{bmatrix}$ <br>\n",
        "Then, for matrix $n = \\begin{bmatrix} n_1 \\\\ n_2 \\end{bmatrix}$, $n^T A n = \\begin{bmatrix} n_1 & n_2 \\end{bmatrix} * \\begin{bmatrix} 2{x_2}^2 & 4x_1x_2 - 2 \\\\ 4x_1x_2 - 2 & 2{x_1}^2 \\end{bmatrix} * \\begin{bmatrix} n_1 \\\\ n_2 \\end{bmatrix} = 4{x_2}^2{n_1}^2 + 8x_1x_2n_1n_2-4n_1n_2$ <br>\n",
        "Since we could select any $n$, we can find that $n^T A n$ will not always be greater or equal to 0.\n",
        "\n",
        "Therefore, Hessian matrix $A$ is not positive semidefinite.\n",
        "\n",
        "Hence, $f(x_1,x_2)$ is not convex (by Theorem 2 of convex)."
      ],
      "metadata": {
        "id": "L_VY0XmUkteW"
      }
    },
    {
      "cell_type": "markdown",
      "source": [
        "#### Answer: Not convex.\n",
        "\n"
      ],
      "metadata": {
        "id": "6Tigk4RBkyFb"
      }
    },
    {
      "cell_type": "markdown",
      "source": [
        "#### Solution of Problem 1 (b):\n",
        "\n",
        "Since $\\mathbf{w_1}, \\mathbf{w_2} \\in R^2, \\mathbf{w_1}-\\mathbf{w_2} \\in \\mathbb{R}^2$. <br>\n",
        "Let $\\mathbf{w_1}-\\mathbf{w_2} = \\begin{bmatrix} a_1 \\\\ a_2 \\end{bmatrix}$ where $a_1,a_2 \\in \\mathbb{R}$.\n",
        "\n",
        "Then, $f(\\mathbf{w_1}, \\mathbf{w_2}) = \\|\\mathbf{w_1}-\\mathbf{w_2}\\|_2^2 = {a_1}^2 + {a_2}^2$.\n",
        "\n",
        "Therefore, this question is converted to identify whether $f(a_1,a_2) = {a_1}^2 + {a_2}^2$ ($a_1,a_2 \\in \\mathbb{R}$) is convex.\n",
        "\n",
        "Hessian matrix $A = \\begin{bmatrix} \\frac{∂^2f}{∂a_1^2} & \\frac{∂^2f}{∂a_1∂a_2} \\\\ \\frac{∂^2f}{∂a_2∂a_1} & \\frac{∂^2f}{∂a_2^2} \\end{bmatrix} = \\begin{bmatrix} 2 & 0 \\\\ 0 & 2 \\end{bmatrix}$\n",
        "\n",
        "Then, for matrix $n = \\begin{bmatrix} n_1 \\\\ n_2 \\end{bmatrix}$, $n^T A n = \\begin{bmatrix} n_1 & n_2 \\end{bmatrix} * \\begin{bmatrix} 2 & 0 \\\\ 0 & 2 \\end{bmatrix} * \\begin{bmatrix} n_1 \\\\ n_2 \\end{bmatrix} = 2{n_1}^2+2{n_2}^2$ <br>\n",
        "For any $n$, $n^T A n$ is always greater or equal to 0.\n",
        "\n",
        "Therefore, Hessian matrix $A$ is positive semidefinite.\n",
        "\n",
        "Hence, $f(\\mathbf{w_1}, \\mathbf{w_2})$ is convex (by Theorem 2 of convex)."
      ],
      "metadata": {
        "id": "sIrHUR8zk1Tp"
      }
    },
    {
      "cell_type": "markdown",
      "source": [
        "#### Answer: Convex."
      ],
      "metadata": {
        "id": "I0rrCHF0k32r"
      }
    },
    {
      "cell_type": "markdown",
      "source": [
        "## Problem 2 (10 points)\n",
        "\n",
        "Identify stationary points for $f(x) = 2x_1 +12x_2 +x^2_1 -3x^2_2$? Are they local minimum/maximum; global minimum/maximum or saddle points? Why?"
      ],
      "metadata": {
        "id": "HRihLtPqk6rB"
      }
    },
    {
      "cell_type": "markdown",
      "source": [
        "#### Answer: Stationary point for $f(x)$ is $(-1,2)$, which is a saddle point."
      ],
      "metadata": {
        "id": "PG1_3Bemk79P"
      }
    },
    {
      "cell_type": "markdown",
      "source": [
        "Stationary points for $f(x)$ is $(-1,2)$ i.e. $(x_1=-1,x_2=2)$.\n",
        "\n",
        "$\\frac{∂f}{∂x_1} = 2 + 2x_1= 0$ &rarr; $x_1 = -1$ <br>\n",
        "$\\frac{∂f}{∂x_2} = 12 - 6x_2 = 0$ &rarr; $x_2 = 2$\n",
        "\n",
        "According to the 3-D graph and second partial derivative test, this stationary point is a saddle point.\n",
        "\n",
        "Interpretation: Second Partial Derivative Test: $D = \\frac{∂^2f}{∂x_1^2}*\\frac{∂^2f}{∂x_2^2}-(\\frac{∂^2f}{∂x_1*∂x_2})^2$ <br>\n",
        "$D>0$: if $\\frac{∂^2f}{∂x_1^2} > 0$, local minimum; if $\\frac{∂^2f}{∂x_1^2} < 0$, local maximum; <br>\n",
        "$D<0$: saddle point; <br>\n",
        "$D=0$: inconclusive (local min/max or saddle point).\n",
        "\n",
        "$D = \\frac{∂f}{∂x_1} (\\frac{∂f}{∂x_1}) + \\frac{∂f}{∂x_2} (\\frac{∂f}{∂x_2}) - \\frac{∂f}{∂x_2} (\\frac{∂f}{∂x_1}) = \\frac{∂(2+2x_1)}{∂x_1} * \\frac{∂(12-6x_2)}{∂x_2} - \\frac{∂(2+2x_1)}{∂x_2} = 2 * (-6) - 0 = -12 < 0$\n",
        "\n",
        "Therefore, this point is a saddle point."
      ],
      "metadata": {
        "id": "tC32aogpGeL-"
      }
    },
    {
      "cell_type": "markdown",
      "source": [
        "## Problem 3 (80 points)\n",
        "\n",
        "Given training data $\\{\\mathbf{x}_i, y_i\\}^n_{i=1}$, each $x_i\\in \\mathbb{R}^d$ and $y_i \\in \\{+1, -1\\}$, we try to solve the following logistic regression problem by gradient descent:\n",
        "\\begin{align}\n",
        "\\min_{\\mathbf{w}\\in R^d}\\left\\{\\frac{1}{n}\\sum_{i=1}^n\\log(1+e^{-y_i\\mathbf{w}^T\\mathbf{x}_i})+\\frac{1}{2}\\|\\mathbf{w}\\|^2_2  \\right\\} := f(\\mathbf{w}).\n",
        "\\end{align}\n",
        "Test the algorithm using the 'heart scale' dataset with $n = 270$ and $d = 13$: the matrix $\\mathbf{X}$ is stored in the file 'X$\\_$heart', and the vector $\\mathbf{y}$ is stored in the file 'y$\\_$heart'. ('X$\\_$heart' contains $n$ lines, each line stores a vector $\\mathbf{x}_i$ with $d$ real numbers. 'y$\\_$heart' contains the $\\mathbf{y}$ vector.)"
      ],
      "metadata": {
        "id": "kegz8m6glB3d"
      }
    },
    {
      "cell_type": "code",
      "source": [
        "## Please implement data loading yourself"
      ],
      "metadata": {
        "id": "c1dXtcBGqZmv"
      },
      "execution_count": 3,
      "outputs": []
    },
    {
      "cell_type": "code",
      "source": [
        "## Load data:\n",
        "X = pd.read_csv(\"/content/drive/MyDrive/HW1/X_heart\", header=None)\n",
        "y = pd.read_csv(\"/content/drive/MyDrive/HW1/y_heart\", header=None)\n",
        "\n",
        "X.columns = ['col']\n",
        "X = X.col.str.extract('([^a-zA-Z]+ )([^a-zA-Z]+ )([^a-zA-Z]+ )([^a-zA-Z]+ )([^a-zA-Z]+ )([^a-zA-Z]+ )([^a-zA-Z]+ )([^a-zA-Z]+ )([^a-zA-Z]+ )([^a-zA-Z]+ )([^a-zA-Z]+ )([^a-zA-Z]+ )([^a-zA-Z]+)', expand=True)\n",
        "X = X.apply(pd.to_numeric)\n",
        "\n",
        "X = X.to_numpy()\n",
        "y = y.to_numpy()"
      ],
      "metadata": {
        "id": "sJStVuRpqkzS"
      },
      "execution_count": 4,
      "outputs": []
    },
    {
      "cell_type": "markdown",
      "source": [
        "### (a) (5 points) Compute the gradient of $f(\\mathbf{w})$ w.r.t. $\\mathbf{w}$."
      ],
      "metadata": {
        "id": "vZWcD3ufnEcJ"
      }
    },
    {
      "cell_type": "markdown",
      "source": [
        "Answer: \\begin{align}\n",
        "\\triangledown f(\\mathbf{w}) = -\\frac{1}{n}\\sum_{i=1}^n\\frac{y_i\\mathbf{x}_i}{1+e^{y_i\\mathbf{w}^T\\mathbf{x}_i}}+\\mathbf{w}.\n",
        "\\end{align}"
      ],
      "metadata": {
        "id": "_KmlQojYnL1a"
      }
    },
    {
      "cell_type": "markdown",
      "source": [
        "### (b) (30 points) Implement the gradient descent algorithm with a fixed step size $\\eta$. Find a small $\\eta_1$ such that the algorithm converges. Increase the step size to $\\eta_2$ so the algorithm cannot converge. Run 50 iterations and plot the iteration versus $\\log(f(\\mathbf{w}^k) -f(\\mathbf{w}^*))$ plot for $\\eta_1$ and $\\eta_2$. In practice it is impossible to get the exact optimal solution $\\mathbf{w}^*$, so use the minimum value you computed as $f(\\mathbf{w}^*)$ when you plot the figure. Report the $f(\\mathbf{w}^*)$ value you used for generating the plots."
      ],
      "metadata": {
        "id": "KYWHWEGinOyC"
      }
    },
    {
      "cell_type": "code",
      "source": [
        "## Implementation of GD\n",
        "## You can insert more code chunks and text cells between (b) and (c) if you want to.\n",
        "## Your code:"
      ],
      "metadata": {
        "id": "L8pJfqcHm89-"
      },
      "execution_count": 5,
      "outputs": []
    },
    {
      "cell_type": "code",
      "source": [
        "def GD(w):\n",
        "  gdd = np.zeros(13).reshape(13, 1)\n",
        "  for i in range (0,270):\n",
        "    gdd = gdd - 1/270 * y[i] * X[i].reshape(13,1) / (1 + np.exp(y[i] * np.transpose(w) @ X[i].reshape(13,1)))\n",
        "  return gdd\n",
        "\n",
        "def f(w):\n",
        "  f = 0\n",
        "  for i in range (0,270):\n",
        "    f = f + math.log(1 + math.exp(-1 * y[i] * np.transpose(w) @ X[i].reshape(13,1)))\n",
        "  return f/270 + 1/2*np.linalg.norm(w)**2"
      ],
      "metadata": {
        "id": "DUB2PG9pKPgn"
      },
      "execution_count": 6,
      "outputs": []
    },
    {
      "cell_type": "markdown",
      "source": [
        "Plot of a small step size $\\eta_1$: 0.01"
      ],
      "metadata": {
        "id": "IlxfxSzOnyjW"
      }
    },
    {
      "cell_type": "code",
      "source": [
        "eta = 0.01\n",
        "w = np.zeros(13).reshape(13, 1)\n",
        "flist = np.zeros(50)\n",
        "\n",
        "for i in range (50):\n",
        "  flist[i] = f(w)\n",
        "  w = w - eta * GD(w)\n",
        "\n",
        "fxstar1 = min(flist)\n",
        "ferror = flist - fxstar1\n",
        "logflist = np.log(ferror)\n",
        "\n",
        "plt.plot(list(range(1,51)), logflist)"
      ],
      "metadata": {
        "colab": {
          "base_uri": "https://localhost:8080/",
          "height": 319
        },
        "id": "2NLjmmh_KK86",
        "outputId": "3b573911-94b8-41db-b3d3-8fad4368b644"
      },
      "execution_count": 7,
      "outputs": [
        {
          "output_type": "stream",
          "name": "stderr",
          "text": [
            "/usr/local/lib/python3.7/dist-packages/ipykernel_launcher.py:11: RuntimeWarning: divide by zero encountered in log\n",
            "  # This is added back by InteractiveShellApp.init_path()\n"
          ]
        },
        {
          "output_type": "execute_result",
          "data": {
            "text/plain": [
              "[<matplotlib.lines.Line2D at 0x7f2600d64850>]"
            ]
          },
          "metadata": {},
          "execution_count": 7
        },
        {
          "output_type": "display_data",
          "data": {
            "text/plain": [
              "<Figure size 432x288 with 1 Axes>"
            ],
            "image/png": "[encoded data removed]"
          },
          "metadata": {
            "needs_background": "light"
          }
        }
      ]
    },
    {
      "cell_type": "markdown",
      "source": [
        "Plot of a small step size $\\eta_2$: 0.05"
      ],
      "metadata": {
        "id": "NUYIuw_an2tV"
      }
    },
    {
      "cell_type": "code",
      "source": [
        "eta = 0.05\n",
        "w = np.zeros(13).reshape(13, 1)\n",
        "flist = np.zeros(50)\n",
        "\n",
        "for i in range (50):\n",
        "  flist[i] = f(w)\n",
        "  w = w - eta * GD(w)\n",
        "\n",
        "fxstar2 = min(flist)\n",
        "ferror = flist - fxstar2\n",
        "logflist = np.log(ferror)\n",
        "\n",
        "plt.plot(list(range(1,51)), logflist)"
      ],
      "metadata": {
        "colab": {
          "base_uri": "https://localhost:8080/",
          "height": 319
        },
        "id": "JNiIMRhMOUt7",
        "outputId": "a0add9da-6588-47f0-ea86-4b8c4671cca1"
      },
      "execution_count": 8,
      "outputs": [
        {
          "output_type": "stream",
          "name": "stderr",
          "text": [
            "/usr/local/lib/python3.7/dist-packages/ipykernel_launcher.py:11: RuntimeWarning: divide by zero encountered in log\n",
            "  # This is added back by InteractiveShellApp.init_path()\n"
          ]
        },
        {
          "output_type": "execute_result",
          "data": {
            "text/plain": [
              "[<matplotlib.lines.Line2D at 0x7f25ffc34d50>]"
            ]
          },
          "metadata": {},
          "execution_count": 8
        },
        {
          "output_type": "display_data",
          "data": {
            "text/plain": [
              "<Figure size 432x288 with 1 Axes>"
            ],
            "image/png": "[encoded data removed]"
          },
          "metadata": {
            "needs_background": "light"
          }
        }
      ]
    },
    {
      "cell_type": "markdown",
      "source": [
        "The $f(\\mathbf{x}^*)$ value used is: 0.6283854564926143 for $\\eta=0.01$, and 0.6187490694163746 for $\\eta=0.05$"
      ],
      "metadata": {
        "id": "iG6GtonCnuvU"
      }
    },
    {
      "cell_type": "code",
      "source": [
        "print(fxstar1)\n",
        "print(fxstar2)"
      ],
      "metadata": {
        "colab": {
          "base_uri": "https://localhost:8080/"
        },
        "id": "dewNXHH0QUnX",
        "outputId": "c66fbadf-f5e4-4a36-d6cd-959c2eaa7b87"
      },
      "execution_count": 9,
      "outputs": [
        {
          "output_type": "stream",
          "name": "stdout",
          "text": [
            "0.6283854564926143\n",
            "0.6187490694163746\n"
          ]
        }
      ]
    },
    {
      "cell_type": "markdown",
      "source": [
        "### (c) (5 points) Write down the pseudo code of gradient descent with backtracking line search ($\\sigma=0.01$)."
      ],
      "metadata": {
        "id": "2CSl47RKppHM"
      }
    },
    {
      "cell_type": "markdown",
      "source": [
        "Pseudo code:\n",
        "\n",
        "Initialize the weights $\\mathbf{w}_0$ <br>\n",
        "For t = 1, 2, ... , 50 <br>\n",
        "    &emsp; Compute the gradient $\\mathbf{d} = -\\triangledown f(\\mathbf{w})$ <br>\n",
        "    &emsp; For $\\alpha = \\alpha_0, \\alpha_0/2, \\alpha_0/4, ... $<br>\n",
        "    &emsp; &emsp; Break if $f(\\mathbf{w} + \\alpha \\mathbf{d}) ≤ f(\\mathbf{w}) + 0.01 \\alpha \\triangledown f(\\mathbf{w})^T \\mathbf{d} $ <br>\n",
        "    &emsp; Update $\\mathbf{w} ← \\mathbf{w} + \\alpha \\mathbf{d}$ <br>\n",
        "    &emsp; Return the final solution $\\mathbf{w}$\n",
        "\n",
        "$\\triangledown f(\\mathbf{w}) = -\\frac{1}{n}\\sum_{i=1}^n\\frac{y_i\\mathbf{x}_i}{1+e^{y_i\\mathbf{w}^T\\mathbf{x}_i}}+\\mathbf{w}$"
      ],
      "metadata": {
        "id": "yfYLYqLgp4i5"
      }
    },
    {
      "cell_type": "markdown",
      "source": [
        "### (d) (20 points) Implement the gradient descent algorithm with backtracking line search ($\\sigma=0.01$). Plot the same iteration versus $\\log(f(\\mathbf{w}^k) -f(\\mathbf{w}^*))$ plot."
      ],
      "metadata": {
        "id": "peboWtMBp62-"
      }
    },
    {
      "cell_type": "code",
      "source": [
        "## Implementation of GD with line search\n",
        "## You can insert more code chunks and text cells between (d) and (e) if you want to.\n",
        "## Your code:"
      ],
      "metadata": {
        "id": "ff-v_MOZqDGX"
      },
      "execution_count": 10,
      "outputs": []
    },
    {
      "cell_type": "code",
      "source": [
        "def BTLS(flist):\n",
        "  w = np.zeros(13).reshape(13, 1)\n",
        "  alpha = 0.1\n",
        "  for i in range (50):\n",
        "    flist[i] = f(w)\n",
        "    d = -GD(w)\n",
        "    while (f(w + alpha * d) > f(w) + 0.01 * alpha * np.transpose(GD(w)) @ d):\n",
        "      alpha = alpha / 2\n",
        "    w = w + alpha * d\n",
        "  return [w, flist]"
      ],
      "metadata": {
        "id": "_gB2YwEaXvmq"
      },
      "execution_count": 11,
      "outputs": []
    },
    {
      "cell_type": "code",
      "source": [
        "fzeros = np.zeros(50)\n",
        "[w, flist] = BTLS(fzeros)\n",
        "fxstar = min(flist)\n",
        "ferror = flist - fxstar\n",
        "logflist = np.log(ferror)"
      ],
      "metadata": {
        "colab": {
          "base_uri": "https://localhost:8080/"
        },
        "id": "coVFLF7xsZSD",
        "outputId": "93107d83-777a-4916-ef95-0f3f378fef7e"
      },
      "execution_count": 12,
      "outputs": [
        {
          "output_type": "stream",
          "name": "stderr",
          "text": [
            "/usr/local/lib/python3.7/dist-packages/ipykernel_launcher.py:5: RuntimeWarning: divide by zero encountered in log\n",
            "  \"\"\"\n"
          ]
        }
      ]
    },
    {
      "cell_type": "markdown",
      "source": [
        "The Plot:"
      ],
      "metadata": {
        "id": "mjG8nJHIqIAT"
      }
    },
    {
      "cell_type": "code",
      "source": [
        "plt.plot(list(range(1,51)), logflist)"
      ],
      "metadata": {
        "colab": {
          "base_uri": "https://localhost:8080/",
          "height": 283
        },
        "id": "7GITI-iverPJ",
        "outputId": "0221b6aa-1a9e-476e-c74f-bde5e55faae7"
      },
      "execution_count": 13,
      "outputs": [
        {
          "output_type": "execute_result",
          "data": {
            "text/plain": [
              "[<matplotlib.lines.Line2D at 0x7f25ffbad750>]"
            ]
          },
          "metadata": {},
          "execution_count": 13
        },
        {
          "output_type": "display_data",
          "data": {
            "text/plain": [
              "<Figure size 432x288 with 1 Axes>"
            ],
            "image/png": "[encoded data removed]"
          },
          "metadata": {
            "needs_background": "light"
          }
        }
      ]
    },
    {
      "cell_type": "markdown",
      "source": [
        "### (e) (20 points) Test your implementation (gradient descent with backtracking line search) on a larger dataset 'epsilonsubset'. Plot the same iteration vs error plot."
      ],
      "metadata": {
        "id": "VbHsQrUyqNCR"
      }
    },
    {
      "cell_type": "code",
      "source": [
        "## Implementation of GD with line search\n",
        "## You can insert more code chunks and text cells between (d) and (e) if you want to.\n",
        "## Your code:"
      ],
      "metadata": {
        "id": "Uy7Tb8W8qUMr"
      },
      "execution_count": 14,
      "outputs": []
    },
    {
      "cell_type": "code",
      "source": [
        "X = pd.read_csv(\"/content/drive/MyDrive/HW1/x_epsilonsubset\", header = None)\n",
        "y = pd.read_csv(\"/content/drive/MyDrive/HW1/y_epsilonsubset\", header = None)"
      ],
      "metadata": {
        "id": "4kVRJTFwiymw"
      },
      "execution_count": 15,
      "outputs": []
    },
    {
      "cell_type": "code",
      "source": [
        "size = len(X.iloc[0][0].split())\n",
        "Xzeros = np.zeros((len(X), size))\n",
        "for i in range(len(X)):\n",
        "  Xzeros[i]= X.iloc[0][0].split()\n",
        "\n",
        "X = Xzeros\n",
        "y = y.to_numpy()"
      ],
      "metadata": {
        "id": "_wNokq7mlRDV"
      },
      "execution_count": 16,
      "outputs": []
    },
    {
      "cell_type": "code",
      "source": [
        "def GD(w):\n",
        "  gdd = np.zeros(len(X[0])).reshape(len(X[0]), 1)\n",
        "  for i in range (0,len(X)):\n",
        "    gdd = gdd - 1/len(X) * y[i] * X[i].reshape(len(X[0]),1) / (1 + np.exp(y[i] * np.transpose(w) @ X[i].reshape(len(X[0]),1)))\n",
        "  return gdd\n",
        "\n",
        "def f(w):\n",
        "  f = 0\n",
        "  for i in range (0,len(X)):\n",
        "    f = f + math.log(1 + math.exp(-1 * y[i] * np.transpose(w) @ X[i].reshape(len(X[0]),1)))\n",
        "  return f/len(X) + 1/2*np.linalg.norm(w)**2\n",
        "\n",
        "def BTLS(flist):\n",
        "  w = np.zeros(len(X[0])).reshape(len(X[0]), 1)\n",
        "  alpha = 0.1\n",
        "  for i in range (50):\n",
        "    flist[i] = f(w)\n",
        "    d = -GD(w)\n",
        "    while (f(w + alpha * d) > f(w) + 0.01 * alpha * np.transpose(GD(w)) @ d):\n",
        "      alpha = alpha / 2\n",
        "    w = w + alpha * d\n",
        "  return [w, flist]"
      ],
      "metadata": {
        "id": "xP_Ylp4_pJKZ"
      },
      "execution_count": 20,
      "outputs": []
    },
    {
      "cell_type": "code",
      "source": [
        "fzeros = np.zeros(50)\n",
        "[w, flist] = BTLS(fzeros)\n",
        "fxstar = min(flist)\n",
        "ferror = flist - fxstar\n",
        "logflist = np.log(ferror)"
      ],
      "metadata": {
        "id": "LDYOS94St3TF"
      },
      "execution_count": null,
      "outputs": []
    },
    {
      "cell_type": "markdown",
      "source": [
        "The Plot:"
      ],
      "metadata": {
        "id": "9X_eNkjVqUtJ"
      }
    },
    {
      "cell_type": "code",
      "source": [
        "plt.plot(list(range(1,51)), logflist)"
      ],
      "metadata": {
        "colab": {
          "base_uri": "https://localhost:8080/",
          "height": 283
        },
        "id": "8AIM6j7DpdrC",
        "outputId": "ae8e3a19-1e43-445c-e7ea-7d871ad2b1e4"
      },
      "execution_count": 19,
      "outputs": [
        {
          "output_type": "execute_result",
          "data": {
            "text/plain": [
              "[<matplotlib.lines.Line2D at 0x7f25ffb3a610>]"
            ]
          },
          "metadata": {},
          "execution_count": 19
        },
        {
          "output_type": "display_data",
          "data": {
            "text/plain": [
              "<Figure size 432x288 with 1 Axes>"
            ],
            "image/png": "[encoded data removed]"
          },
          "metadata": {
            "needs_background": "light"
          }
        }
      ]
    }
  ]
}
